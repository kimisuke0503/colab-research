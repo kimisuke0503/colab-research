{
  "nbformat": 4,
  "nbformat_minor": 0,
  "metadata": {
    "colab": {
      "provenance": [],
      "authorship_tag": "ABX9TyN5dQ/ePVSk5CL+CYcSFr3H",
      "include_colab_link": true
    },
    "kernelspec": {
      "name": "python3",
      "display_name": "Python 3"
    },
    "language_info": {
      "name": "python"
    }
  },
  "cells": [
    {
      "cell_type": "markdown",
      "metadata": {
        "id": "view-in-github",
        "colab_type": "text"
      },
      "source": [
        "<a href=\"https://colab.research.google.com/github/kimisuke0503/colab-research/blob/main/movieLens_average/ave_movie_RSCCMM_CF_compare.ipynb\" target=\"_parent\"><img src=\"https://colab.research.google.com/assets/colab-badge.svg\" alt=\"Open In Colab\"/></a>"
      ]
    },
    {
      "cell_type": "markdown",
      "source": [
        "movieLens_average/ave_movie_RSCCMM_CF_compare.ipynb"
      ],
      "metadata": {
        "id": "YilvSwar2X_z"
      }
    },
    {
      "cell_type": "code",
      "execution_count": 17,
      "metadata": {
        "id": "mAOYV_qDg-Ia"
      },
      "outputs": [],
      "source": [
        "#ライブラリ\n",
        "import pandas as pd\n",
        "import numpy as np\n",
        "import random\n",
        "import sys\n",
        "from sklearn.metrics import roc_curve\n",
        "from sklearn.metrics import roc_auc_score\n",
        "import matplotlib.pyplot as plt\n",
        "import csv"
      ]
    },
    {
      "cell_type": "code",
      "source": [
        "data_training = pd.read_excel('data_training.xlsx',index_col=0)\n",
        "data_test = pd.read_excel('data_test.xlsx',index_col=0)\n",
        "\n",
        "X = data_training.values[:, 1:]\n",
        "TEST = data_test.values\n",
        "\n",
        "print(X.shape)\n",
        "print(TEST.shape)"
      ],
      "metadata": {
        "colab": {
          "base_uri": "https://localhost:8080/"
        },
        "id": "vA4fzOEKhG5j",
        "outputId": "b94b183d-54d4-409c-f55f-8ad1f203d645"
      },
      "execution_count": 18,
      "outputs": [
        {
          "output_type": "stream",
          "name": "stdout",
          "text": [
            "(943, 1682)\n",
            "(10000, 3)\n"
          ]
        }
      ]
    },
    {
      "cell_type": "code",
      "source": [
        "# 未評価値を各ユーザーの平均評価値で補完\n",
        "ave = np.empty((X.shape[0]))\n",
        "for n in range(X.shape[0]):\n",
        "    n_sum = 0\n",
        "    for m in range(X.shape[1]):\n",
        "        n_sum += X[n][m]\n",
        "    if n_sum == 0:\n",
        "        ave[n] = 0\n",
        "    else:\n",
        "        ave[n] = n_sum/np.count_nonzero(X,axis=1)[n]\n",
        "\n",
        "X_movie = np.asarray(X, dtype = \"float\")\n",
        "\n",
        "for n in range(X.shape[0]):\n",
        "  for m in range(X.shape[1]):\n",
        "    if X[n][m] == 0 :\n",
        "      X_movie[n][m] = ave[n]\n",
        "\n",
        "print(X_movie)"
      ],
      "metadata": {
        "colab": {
          "base_uri": "https://localhost:8080/"
        },
        "id": "0aWzvjKZhInd",
        "outputId": "9e23517d-7408-4484-d0ef-c0f22e4dc8f9"
      },
      "execution_count": 19,
      "outputs": [
        {
          "output_type": "stream",
          "name": "stdout",
          "text": [
            "[[5.         3.         4.         ... 3.61065574 3.61065574 3.61065574]\n",
            " [4.         3.75438596 3.75438596 ... 3.75438596 3.75438596 3.75438596]\n",
            " [2.80392157 2.80392157 2.80392157 ... 2.80392157 2.80392157 2.80392157]\n",
            " ...\n",
            " [5.         4.04761905 4.04761905 ... 4.04761905 4.04761905 4.04761905]\n",
            " [4.27027027 4.27027027 4.27027027 ... 4.27027027 4.27027027 4.27027027]\n",
            " [3.42361111 5.         3.42361111 ... 3.42361111 3.42361111 3.42361111]]\n"
          ]
        }
      ]
    },
    {
      "cell_type": "code",
      "source": [
        "#関数化\n",
        "def RSCCMM(X, C, delta):\n",
        "  n, m = X.shape\n",
        "  u = np.zeros((C,n))\n",
        "  normalized_u = np.zeros((C,n))\n",
        "\n",
        "  #要素の正規化\n",
        "  #sys.float_info.epsilon を足してないと、類似度計算の時にlog(0)となってNaNが発生する\n",
        "  # X = X + sys.float_info.epsilon\n",
        "  # np.where(X == 0, sys.float_info.epsilon, X)\n",
        "  normalized_X = X / np.sum(X, 1)[:, np.newaxis]\n",
        "\n",
        "  #類似度\n",
        "  s_it = np.array([np.sum(normalized_X * np.log(row + sys.float_info.epsilon), 1) for row in normalized_X])\n",
        "\n",
        "  #二項関係\n",
        "  #deltaの値が小さすぎると二項関係がなくなって、(※)式のところでゼロ徐算が発生する\n",
        "  R = (s_it >= delta).astype(np.float64)\n",
        "\n",
        "  #初期項目メンバシップ\n",
        "  w = np.array([X[c] + sys.float_info.epsilon for c in random.sample(range(n), C)])\n",
        "  w /= w.sum(1)[:,np.newaxis]\n",
        "\n",
        "  #繰り返し処理\n",
        "  for i in range(100):\n",
        "    old_u = normalized_u.copy()\n",
        "    u = np.zeros((C,n))\n",
        "    normalized_u = np.zeros((C,n))\n",
        "\n",
        "    #HCCMM的なクラスター割り当てによるメンバシップ\n",
        "    s = np.log(w) @ X.T\n",
        "    s_max = np.max(s, 0)\n",
        "    u = (s >= s_max).astype(np.float64)\n",
        "\n",
        "    #粒状性（二項関係）を考慮した上近似メンバシップ\n",
        "    if(np.any(np.sum(R, 1) == 0)):\n",
        "       raise Exception(\"二項関係がない\")\n",
        "    rough_u = ((u @ R.T) / np.sum(R, 1) > 0).astype(np.float64) #(※)\n",
        "    normalized_u = rough_u / rough_u.sum(0)\n",
        "\n",
        "    #正規化メンバシップ更新\n",
        "    #ここでも微小値を足していないと次の類似度計算の時にNaNになって計算できなくなる\n",
        "    w = (normalized_u @ X) + sys.float_info.epsilon\n",
        "    if(np.any(np.isnan(w.sum(1)))):\n",
        "      raise Exception(\"NaN発生\")\n",
        "    w /= w.sum(1)[:, np.newaxis]\n",
        "\n",
        "    if np.abs(normalized_u - old_u).max() == 0:\n",
        "      break\n",
        "\n",
        "  return normalized_u.T @ w, rough_u"
      ],
      "metadata": {
        "id": "BX3nVk5DhKzj"
      },
      "execution_count": 20,
      "outputs": []
    },
    {
      "cell_type": "code",
      "source": [
        "#roopの回数を指定し、平均のaucを返す関数返す関数(RSCCMM)\n",
        "from sklearn.metrics import roc_auc_score\n",
        "\n",
        "def RSCCMM_CF_AUC_AVE(roop, test, X, C, delta):\n",
        "  n, m = X.shape\n",
        "  test_num, test_num_fact = test.shape\n",
        "  auc_sum = 0\n",
        "  test_true = np.zeros(test_num)\n",
        "  r_test_score = np.zeros(test_num)\n",
        "\n",
        "  for i in range(test_num):\n",
        "    test_true[i] = 1 if test[i][2] > 3 else 0\n",
        "\n",
        "  for i in range(roop):\n",
        "    r, rough_u = RSCCMM(X, C, delta)\n",
        "    # print(f\"各クラスターの要素数: {np.sum(rough_u, axis=1)}\")\n",
        "\n",
        "    n_overlaps = np.sum((np.sum(rough_u, axis=0) > 1).astype(np.float64))\n",
        "    # print(f\"オーバーラップしている要素の数: {n_overlaps}\")\n",
        "    # print(f\"オーバーラップしていない要素の数: {X.shape[0] - n_overlaps}\")\n",
        "\n",
        "    for j in range(test_num):\n",
        "      r_test_score[j] = r[test[j][0]-1][test[j][1]-1]\n",
        "\n",
        "    auc = roc_auc_score(test_true, r_test_score)\n",
        "    auc_sum += auc\n",
        "\n",
        "  return auc_sum/roop\n",
        "\n",
        "print(RSCCMM_CF_AUC_AVE(1, TEST, X_movie, 5, -7.43))"
      ],
      "metadata": {
        "colab": {
          "base_uri": "https://localhost:8080/"
        },
        "id": "VPyrvTXphNYp",
        "outputId": "1cee4954-f748-46fb-f47b-1e6d3fe7e1e5"
      },
      "execution_count": 21,
      "outputs": [
        {
          "output_type": "stream",
          "name": "stdout",
          "text": [
            "0.7027857448988291\n"
          ]
        }
      ]
    },
    {
      "cell_type": "code",
      "source": [
        "#RCCMM\n",
        "def RCCMM_CF(X, C, a, b):\n",
        "  n, m = X.shape\n",
        "  u = np.zeros((C,n))\n",
        "  w = np.zeros((C,m))\n",
        "  s = np.zeros((C,n))\n",
        "  r = np.zeros((n,m))\n",
        "  r_ = np.zeros((n,m))\n",
        "\n",
        "  w = np.array([X[c] + sys.float_info.epsilon for c in random.sample(range(n), C)])\n",
        "  w /= w.sum(1)[:,np.newaxis]\n",
        "\n",
        "  for step in range(100):\n",
        "    u_old = u.copy()\n",
        "    u = np.zeros((C,n))\n",
        "\n",
        "    s = np.log(w) @ X.T\n",
        "\n",
        "    s_max = s.max(0)\n",
        "    u = (s >= a * s_max + b).astype(np.float64)\n",
        "    u /= u.sum(0)\n",
        "\n",
        "    w = (u @ X) + sys.float_info.epsilon\n",
        "    w /= w.sum(1)[:, np.newaxis]\n",
        "\n",
        "    if np.abs(u - u_old).max() == 0:\n",
        "      break\n",
        "\n",
        "  if any(u.sum(1) == 0):\n",
        "    raise Exception('要素数0のクラスター発生')\n",
        "\n",
        "  r = u.T @ w\n",
        "  r_ = u.T @ np.log(w)\n",
        "\n",
        "  return r, r_"
      ],
      "metadata": {
        "id": "jDRkKlR2hRdW"
      },
      "execution_count": 22,
      "outputs": []
    },
    {
      "cell_type": "code",
      "source": [
        "#roopの回数を指定し、平均のaucを返す関数返す関数(RCCMM)\n",
        "def RCCMM_CF_AUC_AVE(roop, test, X, C, alpha, beta):\n",
        "  n, m = X.shape\n",
        "  test_num, test_num_fact = test.shape\n",
        "  auc_sum = 0\n",
        "  auc__sum = 0\n",
        "  test_true = np.zeros(test_num)\n",
        "  r_test_score = np.zeros(test_num)\n",
        "  r__test_score = np.zeros(test_num)\n",
        "  for i in range(test_num):\n",
        "    test_true[i] = 1 if test[i][2] > 3 else 0\n",
        "\n",
        "  for i in range(roop):\n",
        "    r, r_ = RCCMM_CF(X, C, alpha, beta)\n",
        "\n",
        "    for j in range(test_num):\n",
        "      r_test_score[j] = r[test[j][0]-1][test[j][1]-1]\n",
        "      r__test_score[j] = r_[test[j][0]-1][test[j][1]-1]\n",
        "\n",
        "    auc = roc_auc_score(test_true, r_test_score)\n",
        "    auc_ = roc_auc_score(test_true, r__test_score)\n",
        "    auc_sum += auc\n",
        "    auc__sum += auc_\n",
        "\n",
        "  return auc_sum/roop, auc__sum/roop\n",
        "\n",
        "print(RCCMM_CF_AUC_AVE(10, TEST, X_movie, 30, 1.2, -5))"
      ],
      "metadata": {
        "colab": {
          "base_uri": "https://localhost:8080/"
        },
        "id": "Nw_b-LgLhUGF",
        "outputId": "6d1e9550-c782-4c9b-ec42-da553c9d3bcf"
      },
      "execution_count": 23,
      "outputs": [
        {
          "output_type": "stream",
          "name": "stdout",
          "text": [
            "(0.7035475926295599, 0.7035483007981141)\n"
          ]
        }
      ]
    },
    {
      "cell_type": "code",
      "source": [
        "# 共通設定\n",
        "name = \"ave_movie_RSCCMM_HCCMM_compare\"\n",
        "print(name)\n",
        "roop = 5\n",
        "print(\"roop: \", roop)\n",
        "x_C = np.arange(1,31,1)\n",
        "print(\"C: \", x_C)\n",
        "output_rows = []\n",
        "output = [x_C.tolist()]\n",
        "\n",
        "\n",
        "# RSCCMM-CFの設定\n",
        "y_RSCCMM_auc_ave = []\n",
        "delta_list = np.arange(-7.4277, -7.436, -0.001)\n",
        "print(\"delta_list: \", delta_list )\n",
        "\n",
        "output_rows.append([\"\", ', '.join(map(str, x_C)), \"auc\", ', '.join(map(str, delta_list)), \"無し\"])\n",
        "for c in x_C:\n",
        "  auc_ave_latest = 0\n",
        "  delta_ = 0\n",
        "  for delta in delta_list:\n",
        "    auc_ave = RSCCMM_CF_AUC_AVE(roop, TEST, X_movie, c, delta)\n",
        "    if auc_ave > auc_ave_latest:\n",
        "      auc_ave_latest = auc_ave\n",
        "      delta_ = delta\n",
        "  print(c, auc_ave_latest, delta_)\n",
        "  output_rows.append([\"RSCCMM-CF\", c, auc_ave_latest, delta_, 0])\n",
        "  y_RSCCMM_auc_ave.append(auc_ave_latest)\n",
        "\n",
        "output.append(y_RSCCMM_auc_ave)\n",
        "\n",
        "\n",
        "# RCCMM-CFの設定\n",
        "y_RCCMM_auc_ave = []\n",
        "# RCCMM_alpha_list = np.arange(1.2, 1.6, 0.05)\n",
        "# RCCMM_beta_list = np.arange(0,-10,-1)\n",
        "RCCMM_alpha_list = np.array([1.0])\n",
        "RCCMM_beta_list = np.array([0.0])\n",
        "print(\"alpha_list: \", RCCMM_alpha_list)\n",
        "print(\"beta_list: \", RCCMM_beta_list)\n",
        "\n",
        "output_rows.append([\"\", ', '.join(map(str, x_C)), \"auc\", ', '.join(map(str, RCCMM_alpha_list)), ', '.join(map(str, RCCMM_beta_list))])\n",
        "for c in x_C:\n",
        "  auc_ave = 0\n",
        "  alpha_ = 0\n",
        "  beta_ = 0\n",
        "  for alpha in RCCMM_alpha_list:\n",
        "    for beta in RCCMM_beta_list:\n",
        "      ave, ave_ = RCCMM_CF_AUC_AVE(roop, TEST, X_movie, c, alpha, beta)\n",
        "      if ave > auc_ave:\n",
        "        auc_ave = ave\n",
        "        alpha_ = alpha\n",
        "        beta_ = beta\n",
        "\n",
        "  output_rows.append([\"HCCMM-CF\", c, auc_ave, alpha_, beta_])\n",
        "  y_RCCMM_auc_ave.append(auc_ave)\n",
        "\n",
        "output.append(y_RCCMM_auc_ave)\n",
        "\n",
        "\n",
        "# 画像出力\n",
        "plt.plot(x_C, y_RSCCMM_auc_ave, label=\"RSCCMM-CF\")\n",
        "# plt.plot(x_C, y_RCCMM_auc_ave, label=\"RCCMM-CF\")\n",
        "plt.plot(x_C, y_RCCMM_auc_ave, label=\"HCCMM-CF\")\n",
        "#plt.xticks(x_C, x_C)\n",
        "plt.legend()\n",
        "plt.title('AUC by C')\n",
        "plt.xlabel('C')\n",
        "plt.ylabel('AUC')\n",
        "#plt.grid(True)\n",
        "plt.savefig(f\"{name}.png\", format=\"png\", dpi=300)\n",
        "\n",
        "#csv出力\n",
        "with open(f'{name}.csv', 'wt', encoding='utf-8', newline='') as fout:\n",
        "    writer = csv.writer(fout)\n",
        "    writer.writerows(output)\n",
        "\n",
        "output_info = [[\"手法\", \"クラスター数\", \"AUC\", \"パラメータ1\", \"パラメータ2\"]]\n",
        "for row in output_rows:\n",
        "  output_info.append(row)\n",
        "\n",
        "with open(f'{name}_info.csv', 'wt', encoding='utf-8', newline='') as fout:\n",
        "    writer = csv.writer(fout)\n",
        "    writer.writerows(output_info)"
      ],
      "metadata": {
        "colab": {
          "base_uri": "https://localhost:8080/",
          "height": 1000
        },
        "id": "8Ie-mg3AhWnS",
        "outputId": "15d8aac9-f97e-48cd-f972-551a052032ef"
      },
      "execution_count": 15,
      "outputs": [
        {
          "output_type": "stream",
          "name": "stdout",
          "text": [
            "movie_RSCCMM_HCCMM_compare\n",
            "roop:  5\n",
            "C:  [ 1  2  3  4  5  6  7  8  9 10 11 12 13 14 15 16 17 18 19 20 21 22 23 24\n",
            " 25 26 27 28 29 30]\n",
            "delta_list:  [-7.4277 -7.4287 -7.4297 -7.4307 -7.4317 -7.4327 -7.4337 -7.4347 -7.4357]\n",
            "1 0.7035479770639178 -7.4277\n",
            "2 0.7059267273778894 -7.4287\n",
            "3 0.7064308381749468 -7.4287\n",
            "4 0.7075810414941854 -7.4287\n",
            "5 0.7076548043308029 -7.4287\n",
            "6 0.70634147135007 -7.4287\n",
            "7 0.7072713775954327 -7.4287\n",
            "8 0.7070855703534906 -7.4277\n",
            "9 0.7066683336279989 -7.4297\n",
            "10 0.7087612630667721 -7.4287\n",
            "11 0.7068731197871966 -7.4287\n",
            "12 0.7062938621898327 -7.4287\n",
            "13 0.707289818304587 -7.4287\n",
            "14 0.7037861037986526 -7.430700000000001\n",
            "15 0.7040631150570353 -7.4297\n",
            "16 0.7036733067113214 -7.4297\n",
            "17 0.7045991784192634 -7.4297\n",
            "18 0.7032842672343238 -7.4297\n",
            "19 0.7025819299422204 -7.4287\n",
            "20 0.7039795268875617 -7.4297\n",
            "21 0.7029922589892994 -7.4297\n",
            "22 0.7020150187577663 -7.430700000000001\n",
            "23 0.7021796982967252 -7.4297\n",
            "24 0.7024221347429475 -7.4297\n",
            "25 0.7020114172148331 -7.435700000000002\n",
            "26 0.7022274005305438 -7.435700000000002\n",
            "27 0.7013023381580924 -7.435700000000002\n",
            "28 0.7016963267216154 -7.4297\n",
            "29 0.7011716021496112 -7.435700000000002\n",
            "30 0.7008351937595702 -7.435700000000002\n",
            "alpha_list:  [1.]\n",
            "beta_list:  [0.]\n"
          ]
        },
        {
          "output_type": "display_data",
          "data": {
            "text/plain": [
              "<Figure size 640x480 with 1 Axes>"
            ],
            "image/png": "[encoded data removed]"
          },
          "metadata": {}
        }
      ]
    },
    {
      "cell_type": "code",
      "source": [
        "# csvデータから再現\n",
        "name = \"ave_movie_RSCCMM_HCCMM_compare\"\n",
        "labels=[\"RSCCMM-CF\", \"HCCMM-CF\"]\n",
        "input = pd.read_csv(f'{name}.csv', header=None)\n",
        "\n",
        "input_x_C = input.values[0] # Cのリスト\n",
        "input_y_RSCCMM_auc = input.values[1] # RSCCMM-CF results\n",
        "input_y_RCCMM_auc = input.values[2] # RCCMM-CF resulets\n",
        "\n",
        "print(input_x_C)\n",
        "print(input_y_RSCCMM_auc)\n",
        "print(input_y_RCCMM_auc)\n",
        "\n",
        "plt.plot(input_x_C, input_y_RSCCMM_auc, marker = 'o', label=labels[0])\n",
        "plt.plot(input_x_C, input_y_RCCMM_auc, marker = \"o\", label=labels[1])\n",
        "\n",
        "\n",
        "plt.legend()\n",
        "plt.title('AUC by C')\n",
        "plt.xlabel('C')\n",
        "plt.ylabel('AUC')\n",
        "plt.grid(True)\n",
        "plt.savefig(f\"{name}.png\", format=\"png\", dpi=300)"
      ],
      "metadata": {
        "id": "f0UWYs3wr7x0",
        "outputId": "44048607-d3d1-4af0-a987-39e92a94adb3",
        "colab": {
          "base_uri": "https://localhost:8080/",
          "height": 412
        }
      },
      "execution_count": 16,
      "outputs": [
        {
          "output_type": "error",
          "ename": "FileNotFoundError",
          "evalue": "ignored",
          "traceback": [
            "\u001b[0;31m---------------------------------------------------------------------------\u001b[0m",
            "\u001b[0;31mFileNotFoundError\u001b[0m                         Traceback (most recent call last)",
            "\u001b[0;32m<ipython-input-16-abb14a436ccc>\u001b[0m in \u001b[0;36m<cell line: 3>\u001b[0;34m()\u001b[0m\n\u001b[1;32m      1\u001b[0m \u001b[0;31m# csvデータから再現\u001b[0m\u001b[0;34m\u001b[0m\u001b[0;34m\u001b[0m\u001b[0m\n\u001b[1;32m      2\u001b[0m \u001b[0mname\u001b[0m \u001b[0;34m=\u001b[0m \u001b[0;34m\"ave_movie_RSCCMM_HCCMM_compare\"\u001b[0m\u001b[0;34m\u001b[0m\u001b[0;34m\u001b[0m\u001b[0m\n\u001b[0;32m----> 3\u001b[0;31m \u001b[0minput\u001b[0m \u001b[0;34m=\u001b[0m \u001b[0mpd\u001b[0m\u001b[0;34m.\u001b[0m\u001b[0mread_csv\u001b[0m\u001b[0;34m(\u001b[0m\u001b[0;34mf'{name}.csv'\u001b[0m\u001b[0;34m,\u001b[0m \u001b[0mheader\u001b[0m\u001b[0;34m=\u001b[0m\u001b[0;32mNone\u001b[0m\u001b[0;34m)\u001b[0m\u001b[0;34m\u001b[0m\u001b[0;34m\u001b[0m\u001b[0m\n\u001b[0m\u001b[1;32m      4\u001b[0m \u001b[0;34m\u001b[0m\u001b[0m\n\u001b[1;32m      5\u001b[0m \u001b[0minput_x_C\u001b[0m \u001b[0;34m=\u001b[0m \u001b[0minput\u001b[0m\u001b[0;34m.\u001b[0m\u001b[0mvalues\u001b[0m\u001b[0;34m[\u001b[0m\u001b[0;36m0\u001b[0m\u001b[0;34m]\u001b[0m \u001b[0;31m# Cのリスト\u001b[0m\u001b[0;34m\u001b[0m\u001b[0;34m\u001b[0m\u001b[0m\n",
            "\u001b[0;32m/usr/local/lib/python3.10/dist-packages/pandas/util/_decorators.py\u001b[0m in \u001b[0;36mwrapper\u001b[0;34m(*args, **kwargs)\u001b[0m\n\u001b[1;32m    209\u001b[0m                 \u001b[0;32melse\u001b[0m\u001b[0;34m:\u001b[0m\u001b[0;34m\u001b[0m\u001b[0;34m\u001b[0m\u001b[0m\n\u001b[1;32m    210\u001b[0m                     \u001b[0mkwargs\u001b[0m\u001b[0;34m[\u001b[0m\u001b[0mnew_arg_name\u001b[0m\u001b[0;34m]\u001b[0m \u001b[0;34m=\u001b[0m \u001b[0mnew_arg_value\u001b[0m\u001b[0;34m\u001b[0m\u001b[0;34m\u001b[0m\u001b[0m\n\u001b[0;32m--> 211\u001b[0;31m             \u001b[0;32mreturn\u001b[0m \u001b[0mfunc\u001b[0m\u001b[0;34m(\u001b[0m\u001b[0;34m*\u001b[0m\u001b[0margs\u001b[0m\u001b[0;34m,\u001b[0m \u001b[0;34m**\u001b[0m\u001b[0mkwargs\u001b[0m\u001b[0;34m)\u001b[0m\u001b[0;34m\u001b[0m\u001b[0;34m\u001b[0m\u001b[0m\n\u001b[0m\u001b[1;32m    212\u001b[0m \u001b[0;34m\u001b[0m\u001b[0m\n\u001b[1;32m    213\u001b[0m         \u001b[0;32mreturn\u001b[0m \u001b[0mcast\u001b[0m\u001b[0;34m(\u001b[0m\u001b[0mF\u001b[0m\u001b[0;34m,\u001b[0m \u001b[0mwrapper\u001b[0m\u001b[0;34m)\u001b[0m\u001b[0;34m\u001b[0m\u001b[0;34m\u001b[0m\u001b[0m\n",
            "\u001b[0;32m/usr/local/lib/python3.10/dist-packages/pandas/util/_decorators.py\u001b[0m in \u001b[0;36mwrapper\u001b[0;34m(*args, **kwargs)\u001b[0m\n\u001b[1;32m    329\u001b[0m                     \u001b[0mstacklevel\u001b[0m\u001b[0;34m=\u001b[0m\u001b[0mfind_stack_level\u001b[0m\u001b[0;34m(\u001b[0m\u001b[0;34m)\u001b[0m\u001b[0;34m,\u001b[0m\u001b[0;34m\u001b[0m\u001b[0;34m\u001b[0m\u001b[0m\n\u001b[1;32m    330\u001b[0m                 )\n\u001b[0;32m--> 331\u001b[0;31m             \u001b[0;32mreturn\u001b[0m \u001b[0mfunc\u001b[0m\u001b[0;34m(\u001b[0m\u001b[0;34m*\u001b[0m\u001b[0margs\u001b[0m\u001b[0;34m,\u001b[0m \u001b[0;34m**\u001b[0m\u001b[0mkwargs\u001b[0m\u001b[0;34m)\u001b[0m\u001b[0;34m\u001b[0m\u001b[0;34m\u001b[0m\u001b[0m\n\u001b[0m\u001b[1;32m    332\u001b[0m \u001b[0;34m\u001b[0m\u001b[0m\n\u001b[1;32m    333\u001b[0m         \u001b[0;31m# error: \"Callable[[VarArg(Any), KwArg(Any)], Any]\" has no\u001b[0m\u001b[0;34m\u001b[0m\u001b[0;34m\u001b[0m\u001b[0m\n",
            "\u001b[0;32m/usr/local/lib/python3.10/dist-packages/pandas/io/parsers/readers.py\u001b[0m in \u001b[0;36mread_csv\u001b[0;34m(filepath_or_buffer, sep, delimiter, header, names, index_col, usecols, squeeze, prefix, mangle_dupe_cols, dtype, engine, converters, true_values, false_values, skipinitialspace, skiprows, skipfooter, nrows, na_values, keep_default_na, na_filter, verbose, skip_blank_lines, parse_dates, infer_datetime_format, keep_date_col, date_parser, dayfirst, cache_dates, iterator, chunksize, compression, thousands, decimal, lineterminator, quotechar, quoting, doublequote, escapechar, comment, encoding, encoding_errors, dialect, error_bad_lines, warn_bad_lines, on_bad_lines, delim_whitespace, low_memory, memory_map, float_precision, storage_options)\u001b[0m\n\u001b[1;32m    948\u001b[0m     \u001b[0mkwds\u001b[0m\u001b[0;34m.\u001b[0m\u001b[0mupdate\u001b[0m\u001b[0;34m(\u001b[0m\u001b[0mkwds_defaults\u001b[0m\u001b[0;34m)\u001b[0m\u001b[0;34m\u001b[0m\u001b[0;34m\u001b[0m\u001b[0m\n\u001b[1;32m    949\u001b[0m \u001b[0;34m\u001b[0m\u001b[0m\n\u001b[0;32m--> 950\u001b[0;31m     \u001b[0;32mreturn\u001b[0m \u001b[0m_read\u001b[0m\u001b[0;34m(\u001b[0m\u001b[0mfilepath_or_buffer\u001b[0m\u001b[0;34m,\u001b[0m \u001b[0mkwds\u001b[0m\u001b[0;34m)\u001b[0m\u001b[0;34m\u001b[0m\u001b[0;34m\u001b[0m\u001b[0m\n\u001b[0m\u001b[1;32m    951\u001b[0m \u001b[0;34m\u001b[0m\u001b[0m\n\u001b[1;32m    952\u001b[0m \u001b[0;34m\u001b[0m\u001b[0m\n",
            "\u001b[0;32m/usr/local/lib/python3.10/dist-packages/pandas/io/parsers/readers.py\u001b[0m in \u001b[0;36m_read\u001b[0;34m(filepath_or_buffer, kwds)\u001b[0m\n\u001b[1;32m    603\u001b[0m \u001b[0;34m\u001b[0m\u001b[0m\n\u001b[1;32m    604\u001b[0m     \u001b[0;31m# Create the parser.\u001b[0m\u001b[0;34m\u001b[0m\u001b[0;34m\u001b[0m\u001b[0m\n\u001b[0;32m--> 605\u001b[0;31m     \u001b[0mparser\u001b[0m \u001b[0;34m=\u001b[0m \u001b[0mTextFileReader\u001b[0m\u001b[0;34m(\u001b[0m\u001b[0mfilepath_or_buffer\u001b[0m\u001b[0;34m,\u001b[0m \u001b[0;34m**\u001b[0m\u001b[0mkwds\u001b[0m\u001b[0;34m)\u001b[0m\u001b[0;34m\u001b[0m\u001b[0;34m\u001b[0m\u001b[0m\n\u001b[0m\u001b[1;32m    606\u001b[0m \u001b[0;34m\u001b[0m\u001b[0m\n\u001b[1;32m    607\u001b[0m     \u001b[0;32mif\u001b[0m \u001b[0mchunksize\u001b[0m \u001b[0;32mor\u001b[0m \u001b[0miterator\u001b[0m\u001b[0;34m:\u001b[0m\u001b[0;34m\u001b[0m\u001b[0;34m\u001b[0m\u001b[0m\n",
            "\u001b[0;32m/usr/local/lib/python3.10/dist-packages/pandas/io/parsers/readers.py\u001b[0m in \u001b[0;36m__init__\u001b[0;34m(self, f, engine, **kwds)\u001b[0m\n\u001b[1;32m   1440\u001b[0m \u001b[0;34m\u001b[0m\u001b[0m\n\u001b[1;32m   1441\u001b[0m         \u001b[0mself\u001b[0m\u001b[0;34m.\u001b[0m\u001b[0mhandles\u001b[0m\u001b[0;34m:\u001b[0m \u001b[0mIOHandles\u001b[0m \u001b[0;34m|\u001b[0m \u001b[0;32mNone\u001b[0m \u001b[0;34m=\u001b[0m \u001b[0;32mNone\u001b[0m\u001b[0;34m\u001b[0m\u001b[0;34m\u001b[0m\u001b[0m\n\u001b[0;32m-> 1442\u001b[0;31m         \u001b[0mself\u001b[0m\u001b[0;34m.\u001b[0m\u001b[0m_engine\u001b[0m \u001b[0;34m=\u001b[0m \u001b[0mself\u001b[0m\u001b[0;34m.\u001b[0m\u001b[0m_make_engine\u001b[0m\u001b[0;34m(\u001b[0m\u001b[0mf\u001b[0m\u001b[0;34m,\u001b[0m \u001b[0mself\u001b[0m\u001b[0;34m.\u001b[0m\u001b[0mengine\u001b[0m\u001b[0;34m)\u001b[0m\u001b[0;34m\u001b[0m\u001b[0;34m\u001b[0m\u001b[0m\n\u001b[0m\u001b[1;32m   1443\u001b[0m \u001b[0;34m\u001b[0m\u001b[0m\n\u001b[1;32m   1444\u001b[0m     \u001b[0;32mdef\u001b[0m \u001b[0mclose\u001b[0m\u001b[0;34m(\u001b[0m\u001b[0mself\u001b[0m\u001b[0;34m)\u001b[0m \u001b[0;34m->\u001b[0m \u001b[0;32mNone\u001b[0m\u001b[0;34m:\u001b[0m\u001b[0;34m\u001b[0m\u001b[0;34m\u001b[0m\u001b[0m\n",
            "\u001b[0;32m/usr/local/lib/python3.10/dist-packages/pandas/io/parsers/readers.py\u001b[0m in \u001b[0;36m_make_engine\u001b[0;34m(self, f, engine)\u001b[0m\n\u001b[1;32m   1733\u001b[0m                 \u001b[0;32mif\u001b[0m \u001b[0;34m\"b\"\u001b[0m \u001b[0;32mnot\u001b[0m \u001b[0;32min\u001b[0m \u001b[0mmode\u001b[0m\u001b[0;34m:\u001b[0m\u001b[0;34m\u001b[0m\u001b[0;34m\u001b[0m\u001b[0m\n\u001b[1;32m   1734\u001b[0m                     \u001b[0mmode\u001b[0m \u001b[0;34m+=\u001b[0m \u001b[0;34m\"b\"\u001b[0m\u001b[0;34m\u001b[0m\u001b[0;34m\u001b[0m\u001b[0m\n\u001b[0;32m-> 1735\u001b[0;31m             self.handles = get_handle(\n\u001b[0m\u001b[1;32m   1736\u001b[0m                 \u001b[0mf\u001b[0m\u001b[0;34m,\u001b[0m\u001b[0;34m\u001b[0m\u001b[0;34m\u001b[0m\u001b[0m\n\u001b[1;32m   1737\u001b[0m                 \u001b[0mmode\u001b[0m\u001b[0;34m,\u001b[0m\u001b[0;34m\u001b[0m\u001b[0;34m\u001b[0m\u001b[0m\n",
            "\u001b[0;32m/usr/local/lib/python3.10/dist-packages/pandas/io/common.py\u001b[0m in \u001b[0;36mget_handle\u001b[0;34m(path_or_buf, mode, encoding, compression, memory_map, is_text, errors, storage_options)\u001b[0m\n\u001b[1;32m    854\u001b[0m         \u001b[0;32mif\u001b[0m \u001b[0mioargs\u001b[0m\u001b[0;34m.\u001b[0m\u001b[0mencoding\u001b[0m \u001b[0;32mand\u001b[0m \u001b[0;34m\"b\"\u001b[0m \u001b[0;32mnot\u001b[0m \u001b[0;32min\u001b[0m \u001b[0mioargs\u001b[0m\u001b[0;34m.\u001b[0m\u001b[0mmode\u001b[0m\u001b[0;34m:\u001b[0m\u001b[0;34m\u001b[0m\u001b[0;34m\u001b[0m\u001b[0m\n\u001b[1;32m    855\u001b[0m             \u001b[0;31m# Encoding\u001b[0m\u001b[0;34m\u001b[0m\u001b[0;34m\u001b[0m\u001b[0m\n\u001b[0;32m--> 856\u001b[0;31m             handle = open(\n\u001b[0m\u001b[1;32m    857\u001b[0m                 \u001b[0mhandle\u001b[0m\u001b[0;34m,\u001b[0m\u001b[0;34m\u001b[0m\u001b[0;34m\u001b[0m\u001b[0m\n\u001b[1;32m    858\u001b[0m                 \u001b[0mioargs\u001b[0m\u001b[0;34m.\u001b[0m\u001b[0mmode\u001b[0m\u001b[0;34m,\u001b[0m\u001b[0;34m\u001b[0m\u001b[0;34m\u001b[0m\u001b[0m\n",
            "\u001b[0;31mFileNotFoundError\u001b[0m: [Errno 2] No such file or directory: 'ave_movie_RSCCMM_HCCMM_compare.csv'"
          ]
        }
      ]
    },
    {
      "cell_type": "code",
      "source": [],
      "metadata": {
        "id": "3ithE4hVtPle"
      },
      "execution_count": null,
      "outputs": []
    }
  ]
}