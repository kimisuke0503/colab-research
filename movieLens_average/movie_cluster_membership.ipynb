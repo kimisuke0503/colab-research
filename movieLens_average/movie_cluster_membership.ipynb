{
  "nbformat": 4,
  "nbformat_minor": 0,
  "metadata": {
    "colab": {
      "provenance": [],
      "include_colab_link": true
    },
    "kernelspec": {
      "name": "python3",
      "display_name": "Python 3"
    },
    "language_info": {
      "name": "python"
    }
  },
  "cells": [
    {
      "cell_type": "markdown",
      "metadata": {
        "id": "view-in-github",
        "colab_type": "text"
      },
      "source": [
        "<a href=\"https://colab.research.google.com/github/kimisuke0503/colab-research/blob/main/movie_cluster_membership.ipynb\" target=\"_parent\"><img src=\"https://colab.research.google.com/assets/colab-badge.svg\" alt=\"Open In Colab\"/></a>"
      ]
    },
    {
      "cell_type": "code",
      "source": [
        "#ライブラリ\n",
        "import pandas as pd\n",
        "import numpy as np\n",
        "import random\n",
        "import sys\n",
        "from sklearn.metrics import roc_curve\n",
        "from sklearn.metrics import roc_auc_score\n",
        "import matplotlib.pyplot as plt\n",
        "import csv\n",
        "import openpyxl as op"
      ],
      "metadata": {
        "id": "RTw11kh8_yor"
      },
      "execution_count": 19,
      "outputs": []
    },
    {
      "cell_type": "code",
      "source": [
        "data_training = pd.read_excel('data_training.xlsx',index_col=0)\n",
        "data_test = pd.read_excel('data_test.xlsx',index_col=0)\n",
        "\n",
        "X = data_training.values[:, 1:]\n",
        "TEST = data_test.values\n",
        "\n",
        "print(X.shape)\n",
        "print(TEST.shape)"
      ],
      "metadata": {
        "colab": {
          "base_uri": "https://localhost:8080/"
        },
        "id": "XEAfnkNh_iTM",
        "outputId": "0b7d64fc-2871-4dd5-c4ef-36df3a04b392"
      },
      "execution_count": 4,
      "outputs": [
        {
          "output_type": "stream",
          "name": "stdout",
          "text": [
            "(943, 1682)\n",
            "(10000, 3)\n"
          ]
        }
      ]
    },
    {
      "cell_type": "code",
      "source": [
        "# 未評価値を各ユーザーの平均評価値で補完\n",
        "ave = np.empty((X.shape[0]))\n",
        "for n in range(X.shape[0]):\n",
        "    n_sum = 0\n",
        "    for m in range(X.shape[1]):\n",
        "        n_sum += X[n][m]\n",
        "    if n_sum == 0:\n",
        "        ave[n] = 0\n",
        "    else:\n",
        "        ave[n] = n_sum/np.count_nonzero(X,axis=1)[n]\n",
        "\n",
        "X_movie = np.asarray(X, dtype = \"float\")\n",
        "\n",
        "for n in range(X.shape[0]):\n",
        "  for m in range(X.shape[1]):\n",
        "    if X[n][m] == 0 :\n",
        "      X_movie[n][m] = ave[n]\n",
        "\n",
        "print(X_movie)"
      ],
      "metadata": {
        "colab": {
          "base_uri": "https://localhost:8080/"
        },
        "id": "1q0O0KNj_6Co",
        "outputId": "04613ba2-43dc-4bd5-c889-83fee67fc92c"
      },
      "execution_count": 6,
      "outputs": [
        {
          "output_type": "stream",
          "name": "stdout",
          "text": [
            "[[5.         3.         4.         ... 3.61065574 3.61065574 3.61065574]\n",
            " [4.         3.75438596 3.75438596 ... 3.75438596 3.75438596 3.75438596]\n",
            " [2.80392157 2.80392157 2.80392157 ... 2.80392157 2.80392157 2.80392157]\n",
            " ...\n",
            " [5.         4.04761905 4.04761905 ... 4.04761905 4.04761905 4.04761905]\n",
            " [4.27027027 4.27027027 4.27027027 ... 4.27027027 4.27027027 4.27027027]\n",
            " [3.42361111 5.         3.42361111 ... 3.42361111 3.42361111 3.42361111]]\n"
          ]
        }
      ]
    },
    {
      "cell_type": "code",
      "source": [
        "import numpy as np\n",
        "import sys\n",
        "import random\n",
        "\n",
        "#関数化\n",
        "def RSCCMM(X, C, delta):\n",
        "  n, m = X.shape\n",
        "  u = np.zeros((C,n))\n",
        "  normalized_u = np.zeros((C,n))\n",
        "\n",
        "  #要素の正規化\n",
        "  #sys.float_info.epsilon を足してないと、類似度計算の時にlog(0)となってNaNが発生する\n",
        "  # X = X + sys.float_info.epsilon\n",
        "  # np.where(X == 0, sys.float_info.epsilon, X)\n",
        "  normalized_X = X / np.sum(X, 1)[:, np.newaxis]\n",
        "\n",
        "  #類似度\n",
        "  s_it = np.array([np.sum(normalized_X * np.log(row + sys.float_info.epsilon), 1) for row in normalized_X])\n",
        "\n",
        "  #二項関係\n",
        "  #deltaの値が小さすぎると二項関係がなくなって、(※)式のところでゼロ徐算が発生する\n",
        "  R = (s_it >= delta).astype(np.float64)\n",
        "\n",
        "  #初期項目メンバシップ\n",
        "  w = np.array([X[c] + sys.float_info.epsilon for c in random.sample(range(n), C)])\n",
        "  w /= w.sum(1)[:,np.newaxis]\n",
        "\n",
        "  #繰り返し処理\n",
        "  for i in range(100):\n",
        "    old_u = normalized_u.copy()\n",
        "    u = np.zeros((C,n))\n",
        "    normalized_u = np.zeros((C,n))\n",
        "\n",
        "    #HCCMM的なクラスター割り当てによるメンバシップ\n",
        "    s = np.log(w) @ X.T\n",
        "    s_max = np.max(s, 0)\n",
        "    u = (s >= s_max).astype(np.float64)\n",
        "\n",
        "    #粒状性（二項関係）を考慮した上近似メンバシップ\n",
        "    if(np.any(np.sum(R, 1) == 0)):\n",
        "       raise Exception(\"二項関係がない\")\n",
        "    rough_u = ((u @ R.T) / np.sum(R, 1) > 0).astype(np.float64) #(※)\n",
        "    normalized_u = rough_u / rough_u.sum(0)\n",
        "\n",
        "    #正規化メンバシップ更新\n",
        "    #ここでも微小値を足していないと次の類似度計算の時にNaNになって計算できなくなる\n",
        "    w = (normalized_u @ X) + sys.float_info.epsilon\n",
        "    if(np.any(np.isnan(w.sum(1)))):\n",
        "      raise Exception(\"NaN発生\")\n",
        "    w /= w.sum(1)[:, np.newaxis]\n",
        "\n",
        "    if np.abs(normalized_u - old_u).max() == 0:\n",
        "      break\n",
        "\n",
        "  return normalized_u.T @ w, rough_u, w"
      ],
      "metadata": {
        "id": "JZaGWlWFy_nO"
      },
      "execution_count": 11,
      "outputs": []
    },
    {
      "cell_type": "code",
      "source": [
        "#roopの回数を指定し、最大のaucとその時のクラスター構造を返す関数(RSCCMM)\n",
        "from sklearn.metrics import roc_auc_score\n",
        "\n",
        "def RSCCMM_CF_AUC_CLUSTER(roop, test, X, C, delta):\n",
        "  n, m = X.shape\n",
        "  test_num, test_num_fact = test.shape\n",
        "  auc_max = 0\n",
        "  delta_max = 0\n",
        "  every_cluster_objs_max = 0\n",
        "  n_overlaps_max = 0\n",
        "  w_max = 0\n",
        "  output = []\n",
        "\n",
        "  test_true = np.zeros(test_num)\n",
        "  r_test_score = np.zeros(test_num)\n",
        "\n",
        "  for i in range(test_num):\n",
        "    test_true[i] = 1 if test[i][2] > 3 else 0\n",
        "\n",
        "  for i in range(roop):\n",
        "    r, rough_u, w = RSCCMM(X, C, delta) # RSCCM法を適用\n",
        "    every_cluster_objs = np.sum(rough_u, axis=1) # 各クラスターの要素数\n",
        "    n_overlaps = np.sum((np.sum(rough_u, axis=0) > 1).astype(np.float64)) # オーバーラップした要素数\n",
        "\n",
        "    for j in range(test_num):\n",
        "      r_test_score[j] = r[test[j][0]-1][test[j][1]-1]\n",
        "\n",
        "    auc = roc_auc_score(test_true, r_test_score) # AUCを計算\n",
        "    output.append([auc, ', '.join(map(str, every_cluster_objs)), n_overlaps, X.shape[0] - n_overlaps])\n",
        "\n",
        "    if auc > auc_max:\n",
        "      auc_max = auc\n",
        "      w_max = w\n",
        "      delta_max = delta\n",
        "      every_cluster_objs_max = every_cluster_objs\n",
        "      n_overlaps_max = n_overlaps\n",
        "\n",
        "\n",
        "  return auc_max, every_cluster_objs_max, n_overlaps_max, w_max, output\n",
        "\n",
        "print(RSCCMM_CF_AUC_CLUSTER(10, TEST, X_movie, 5, -7.43))"
      ],
      "metadata": {
        "colab": {
          "base_uri": "https://localhost:8080/"
        },
        "id": "afciMKsQAf12",
        "outputId": "db585ab2-5a5f-46db-dc00-55e65677bb52"
      },
      "execution_count": 32,
      "outputs": [
        {
          "output_type": "stream",
          "name": "stdout",
          "text": [
            "(0.7093485047587511, array([743., 628., 856., 628., 622.]), 702.0, array([[0.00062804, 0.00059388, 0.0005892 , ..., 0.00059453, 0.00059453,\n",
            "        0.00059453],\n",
            "       [0.00060204, 0.00059214, 0.00059348, ..., 0.00059453, 0.00059453,\n",
            "        0.00059453],\n",
            "       [0.00062392, 0.0005829 , 0.00058312, ..., 0.00059453, 0.00059454,\n",
            "        0.00059433],\n",
            "       [0.00060426, 0.00059297, 0.00059426, ..., 0.00059313, 0.00059453,\n",
            "        0.00059453],\n",
            "       [0.00060402, 0.00059186, 0.00059212, ..., 0.00059453, 0.00059453,\n",
            "        0.00059453]]), [[0.7034421969152906, '620.0, 876.0, 640.0, 652.0, 677.0', 687.0, 256.0], [0.7052417341453504, '632.0, 885.0, 613.0, 669.0, 636.0', 680.0, 263.0], [0.7070181446137651, '710.0, 636.0, 650.0, 853.0, 652.0', 700.0, 243.0], [0.7089015492340429, '727.0, 649.0, 631.0, 629.0, 853.0', 701.0, 242.0], [0.708892282342675, '730.0, 846.0, 616.0, 693.0, 632.0', 710.0, 233.0], [0.7093485047587511, '743.0, 628.0, 856.0, 628.0, 622.0', 702.0, 241.0], [0.7067208554546643, '732.0, 868.0, 631.0, 614.0, 618.0', 705.0, 238.0], [0.7029290984476095, '865.0, 676.0, 654.0, 659.0, 617.0', 688.0, 255.0], [0.7044175271150659, '649.0, 631.0, 627.0, 883.0, 660.0', 680.0, 263.0], [0.705197746761434, '620.0, 681.0, 622.0, 885.0, 639.0', 683.0, 260.0]])\n"
          ]
        }
      ]
    },
    {
      "cell_type": "code",
      "source": [
        "# 可視化\n",
        "name = \"ave_movie_RSCCMM_cluster\"\n",
        "C = 5\n",
        "auc_max, every_cluster_objs_max, n_overlaps_max, w_max, output = RSCCMM_CF_AUC_CLUSTER(1, TEST, X_movie, C, -7.43)\n",
        "\n",
        "plt.bar(range(C), every_cluster_objs_max, width=0.6)\n",
        "\n",
        "# plt.legend()\n",
        "plt.title('number of elements in each cluster')\n",
        "plt.xlabel('cluster number')\n",
        "plt.ylabel('number of elements')\n",
        "plt.savefig(f\"{name}.png\", format=\"png\", dpi=300)\n",
        "\n",
        "csv_output = [[\"AUC\", \"各クラスターの要素数\", \"オーバーラップしている要素の数\", \"オーバーラップしていない要素の数\"]]\n",
        "for row in output:\n",
        "  csv_output.append(row)\n",
        "print(csv_output)\n",
        "\n",
        "with open(f'{name}.csv', 'wt', encoding='utf-8', newline='') as fout:\n",
        "    writer = csv.writer(fout)\n",
        "    writer.writerows(csv_output)"
      ],
      "metadata": {
        "colab": {
          "base_uri": "https://localhost:8080/",
          "height": 509
        },
        "id": "_5Wz7LlxzhpW",
        "outputId": "45c5c466-2006-436e-c45e-81bc63e72251"
      },
      "execution_count": 37,
      "outputs": [
        {
          "output_type": "stream",
          "name": "stdout",
          "text": [
            "[['AUC', '各クラスターの要素数', 'オーバーラップしている要素の数', 'オーバーラップしていない要素の数'], [0.7079738079611175, '853.0, 612.0, 753.0, 620.0, 640.0', 706.0, 237.0]]\n"
          ]
        },
        {
          "output_type": "display_data",
          "data": {
            "text/plain": [
              "<Figure size 640x480 with 1 Axes>"
            ],
            "image/png": "[encoded data removed]"
          },
          "metadata": {}
        }
      ]
    },
    {
      "cell_type": "code",
      "source": [],
      "metadata": {
        "id": "MZaeK2H6VvBr"
      },
      "execution_count": null,
      "outputs": []
    }
  ]
}