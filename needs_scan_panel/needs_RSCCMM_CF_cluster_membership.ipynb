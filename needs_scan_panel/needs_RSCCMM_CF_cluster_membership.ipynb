{
  "nbformat": 4,
  "nbformat_minor": 0,
  "metadata": {
    "colab": {
      "provenance": [],
      "authorship_tag": "ABX9TyOxx0F9h663WzlZUo+71DHZ",
      "include_colab_link": true
    },
    "kernelspec": {
      "name": "python3",
      "display_name": "Python 3"
    },
    "language_info": {
      "name": "python"
    }
  },
  "cells": [
    {
      "cell_type": "markdown",
      "metadata": {
        "id": "view-in-github",
        "colab_type": "text"
      },
      "source": [
        "<a href=\"https://colab.research.google.com/github/kimisuke0503/colab-research/blob/main/needs_scan_panel/needs_RSCCMM_CF_cluster_membership.ipynb\" target=\"_parent\"><img src=\"https://colab.research.google.com/assets/colab-badge.svg\" alt=\"Open In Colab\"/></a>"
      ]
    },
    {
      "cell_type": "markdown",
      "source": [
        "needs_scan_panel/needs_RSCCMM_CF_cluster_membership.ipynb"
      ],
      "metadata": {
        "id": "P-IsILVKTppl"
      }
    },
    {
      "cell_type": "code",
      "execution_count": 1,
      "metadata": {
        "id": "Ye14_j57x93R"
      },
      "outputs": [],
      "source": [
        "#ライブラリ\n",
        "import pandas as pd\n",
        "import numpy as np\n",
        "import random\n",
        "import sys\n",
        "from sklearn.metrics import roc_curve\n",
        "from sklearn.metrics import roc_auc_score\n",
        "import matplotlib.pyplot as plt\n",
        "import csv\n",
        "import openpyxl as op"
      ]
    },
    {
      "cell_type": "code",
      "source": [
        "import pandas as pd\n",
        "data_training = pd.read_csv('needs_scan_panel_training.csv', header=None)\n",
        "data_test = pd.read_csv('needs_scan_panel_test.csv', header=None)\n",
        "X_needs = data_training.values\n",
        "test_needs = data_test.values\n",
        "print(X_needs.shape)\n",
        "print(test_needs)"
      ],
      "metadata": {
        "colab": {
          "base_uri": "https://localhost:8080/"
        },
        "id": "FnvHxS_Pzvcu",
        "outputId": "c20e97ba-6a63-44b5-94bc-a9e9da74ab82"
      },
      "execution_count": 2,
      "outputs": [
        {
          "output_type": "stream",
          "name": "stdout",
          "text": [
            "(996, 18)\n",
            "[[  1   1   0]\n",
            " [  2   4   0]\n",
            " [  2   8   0]\n",
            " ...\n",
            " [993   1   0]\n",
            " [993   2   1]\n",
            " [995   8   0]]\n"
          ]
        }
      ]
    },
    {
      "cell_type": "code",
      "source": [
        "import numpy as np\n",
        "import sys\n",
        "import random\n",
        "\n",
        "#関数化\n",
        "def RSCCMM(X, C, delta):\n",
        "  n, m = X.shape\n",
        "  u = np.zeros((C,n))\n",
        "  normalized_u = np.zeros((C,n))\n",
        "\n",
        "  #要素の正規化\n",
        "  #sys.float_info.epsilon を足してないと、類似度計算の時にlog(0)となってNaNが発生する\n",
        "  # X = X + sys.float_info.epsilon\n",
        "  # np.where(X == 0, sys.float_info.epsilon, X)\n",
        "  normalized_X = X / np.sum(X, 1)[:, np.newaxis]\n",
        "\n",
        "  #類似度\n",
        "  s_it = np.array([np.sum(normalized_X * np.log(row + sys.float_info.epsilon), 1) for row in normalized_X])\n",
        "\n",
        "  #二項関係\n",
        "  #deltaの値が小さすぎると二項関係がなくなって、(※)式のところでゼロ徐算が発生する\n",
        "  R = (s_it >= delta).astype(np.float64)\n",
        "\n",
        "  #初期項目メンバシップ\n",
        "  w = np.array([X[c] + sys.float_info.epsilon for c in random.sample(range(n), C)])\n",
        "  w /= w.sum(1)[:,np.newaxis]\n",
        "\n",
        "  #繰り返し処理\n",
        "  for i in range(100):\n",
        "    old_u = normalized_u.copy()\n",
        "    u = np.zeros((C,n))\n",
        "    normalized_u = np.zeros((C,n))\n",
        "\n",
        "    #HCCMM的なクラスター割り当てによるメンバシップ\n",
        "    s = np.log(w) @ X.T\n",
        "    s_max = np.max(s, 0)\n",
        "    u = (s >= s_max).astype(np.float64)\n",
        "\n",
        "    #粒状性（二項関係）を考慮した上近似メンバシップ\n",
        "    if(np.any(np.sum(R, 1) == 0)):\n",
        "       raise Exception(\"二項関係がない\")\n",
        "    rough_u = ((u @ R.T) / np.sum(R, 1) > 0).astype(np.float64) #(※)\n",
        "    normalized_u = rough_u / rough_u.sum(0)\n",
        "\n",
        "    #正規化メンバシップ更新\n",
        "    #ここでも微小値を足していないと次の類似度計算の時にNaNになって計算できなくなる\n",
        "    w = (normalized_u @ X) + sys.float_info.epsilon\n",
        "    if(np.any(np.isnan(w.sum(1)))):\n",
        "      raise Exception(\"NaN発生\")\n",
        "    w /= w.sum(1)[:, np.newaxis]\n",
        "\n",
        "    if np.abs(normalized_u - old_u).max() == 0:\n",
        "      break\n",
        "\n",
        "  return normalized_u.T @ w, rough_u, w"
      ],
      "metadata": {
        "id": "0M2_43tv0E5U"
      },
      "execution_count": 3,
      "outputs": []
    },
    {
      "cell_type": "code",
      "source": [
        "#roopの回数を指定し、最大のaucとその時のクラスター構造を返す関数(RSCCMM)\n",
        "from sklearn.metrics import roc_auc_score\n",
        "\n",
        "def RSCCMM_CF_AUC_CLUSTER(roop, test, X, C, delta):\n",
        "  n, m = X.shape\n",
        "  test_num, test_num_fact = test.shape\n",
        "  auc_max = 0\n",
        "  delta_max = 0\n",
        "  every_cluster_objs_max = 0\n",
        "  n_overlaps_max = 0\n",
        "  rough_u_max = 0\n",
        "  w_max = 0\n",
        "  output = []\n",
        "\n",
        "  test_true = np.zeros(test_num)\n",
        "  r_test_score = np.zeros(test_num)\n",
        "\n",
        "  for i in range(test_num):\n",
        "    test_true[i] = test[i][2]\n",
        "\n",
        "  for i in range(roop):\n",
        "    r, rough_u, w = RSCCMM(X, C, delta) # RSCCM法を適用\n",
        "    every_cluster_objs = np.sum(rough_u, axis=1) # 各クラスターの要素数\n",
        "    n_overlaps = np.sum((np.sum(rough_u, axis=0) > 1).astype(np.float64)) # オーバーラップした要素数\n",
        "\n",
        "    for j in range(test_num):\n",
        "      r_test_score[j] = r[test[j][0]][test[j][1]]\n",
        "\n",
        "    auc = roc_auc_score(test_true, r_test_score) # AUCを計算\n",
        "    output.append([auc, ', '.join(map(str, every_cluster_objs)), n_overlaps, X.shape[0] - n_overlaps])\n",
        "\n",
        "    if auc > auc_max:\n",
        "      auc_max = auc\n",
        "      rough_u_max = rough_u\n",
        "      w_max = w\n",
        "      delta_max = delta\n",
        "      every_cluster_objs_max = every_cluster_objs\n",
        "      n_overlaps_max = n_overlaps\n",
        "\n",
        "\n",
        "  return auc_max, rough_u, every_cluster_objs_max, n_overlaps_max, w_max, output\n",
        "\n",
        "auc_max, rough_u_max, every_cluster_objs_max, n_overlaps_max, w_max, output = RSCCMM_CF_AUC_CLUSTER(10, test_needs, X_needs, 100, -7)\n"
      ],
      "metadata": {
        "id": "VpLRarEu0f5L"
      },
      "execution_count": 7,
      "outputs": []
    },
    {
      "cell_type": "code",
      "source": [
        "n_clusters_per_obj = np.sum(rough_u_max, axis=0) # 各対象が、いくつのクラスターに属しているか\n",
        "\n",
        "print(n_clusters_per_obj)\n",
        "\n",
        "fig = plt.figure()\n",
        "ax = fig.add_subplot(1,1,1)\n",
        "\n",
        "ax.hist(n_clusters_per_obj, bins=20, rwidth=0.8)\n",
        "ax.set_title('clusters per user histogram')\n",
        "ax.set_xlabel('cluster')\n",
        "ax.set_ylabel('number of user')\n",
        "fig.show()"
      ],
      "metadata": {
        "id": "speKQCcGEI5v",
        "outputId": "64c630a2-5298-484f-e1b7-8d0080ecdfa8",
        "colab": {
          "base_uri": "https://localhost:8080/",
          "height": 1000
        }
      },
      "execution_count": 15,
      "outputs": [
        {
          "output_type": "stream",
          "name": "stdout",
          "text": [
            "[ 38.  37.   2.  21.  35.  31.  85.  46.  62.  35.  80.  44.  53.  54.\n",
            "  36.  28.  42.  40.  97.  67.  62.  54.  73.  41.  61.  96.  64.  27.\n",
            "  10.  24.   9.  70.   3.  46.  23.  31.  89.  79.  30.  36.   2.  34.\n",
            "  12.  47.  36.  28.   1.   7.  16.  46.  32.  15.  68.  42.   1.  31.\n",
            "  15.   3.   9.   2.  40.   9.  47.  10.  21.  64.  21.  36.   6.  29.\n",
            "  67.  50.  89.  94.  39.  20.  97.  72.   2.   3.  19.   8.  33.   5.\n",
            "  10.  93.  72.  23.  46.  67.  62.   3.  20.  21.  34.  46.  18.  46.\n",
            "  70.  31.  42.  51.  58.   1.  13.  66.   4.  93.  51.   1.   6.  58.\n",
            "  30.  54.  62.  46.  66.  26.   4.  70.  45.  40.  65.  58.  14.   1.\n",
            "  77.  11.   2.  46.   7.  62.  11.  50.   4.  44.   2.   7.  10.  50.\n",
            "  39.  18.   9.  43.  11.  43.   2.  32.  16.  17.  49.   6.  21.  53.\n",
            "  61.  94.  25.   5.  62.   6.   5.  14.  40.  27.   2.  38.  32.  26.\n",
            "  82. 100.   2.  65.  19.  11.  28.  23.  37.  55.   3.  55.  47.   2.\n",
            "  59.  25.   1.  17.  81.  50.   1.  66.  10.  59.  10.  53.  71.  37.\n",
            "  60.  12.  10.   8.  68.  41.   2.  50.  34.  46.  67.  32.  51.  16.\n",
            "  34.  26.  17.  15.  30.  45.  32.  19.  30.  71.  51.  54.  70.  62.\n",
            "  32.  62.  25.  32.  33.  34.  46.  78.  37.  98.   6.   1.   4.  95.\n",
            "  10.   5.  29.   8.  56.  52.  20.  99.  18.   7.  58.  77.  58.  86.\n",
            "  93.  58.   9.  53.  57.  76.   6.  50.  23.   7.  13.  25.   6.  28.\n",
            "  68.  21.  46.  46.   9.  37.  62.  17.   8.  22.  53.  14.  10.  66.\n",
            "  52.  46.  38.  67.   1.  64.  21.  47.  11.  12.  55.  87.  60.  44.\n",
            "  62.  21.  77.  11.  81.  45.  59.  62.  27.  53.  15.  95.  61.  44.\n",
            "  95.  17.  21.  36.  24.  46.  29.  43.  10.   9.  95.  47.  25.  81.\n",
            "  34.  11.   3.  18.  12.  14.  89.   4.  68.  17.  19.   6.  37.  46.\n",
            "  19.  50.  23.  47.  42.  21.  11.  85.  80.   7.  53.   5.  25.  38.\n",
            "  46.  17.   7.  16.  46.  24.  17.  74.  40.  19.  20.   3.  86.  15.\n",
            "   8.  24.  54.  54.   8.  41.  17.  32.  18.  21.  36.   3.  79.  54.\n",
            "  22.  49.  22.  66.  14.  13.  15.  14.  53.  96.  17.  59.  11.  80.\n",
            "  61.  58.  37.  73.  95.  55.  78.  34.  11.  86.  65.  27.  83.   7.\n",
            "  65.  14.   1.  62.  15.   5.  18.  93.  27.  45.  56.   7.  47.  10.\n",
            "  35.  64.  16.  20.   8.  70.  62.  30.  62.  51.  16.  35.  41.  66.\n",
            "  85.   9.  30.  75.  24.  11.  54.  78.  32.  62.   6.   7.  37.  26.\n",
            "   9.  12.  56.  21.  97.  10.  21.  74.  12.  57.   9.  79.   5.  20.\n",
            "  53.  74.  16.  30.  61.  14.  29.  57.  89.  66.  54.  67.  11.  24.\n",
            "   4.  18.  40.  22.  10.  25.  47.  25.  23.   5.   7.  37.  37.   1.\n",
            "  37.  31.   3.   2.  63.  23.   5.   4.  55.  22.   9.  20.  10.   1.\n",
            "   4.  15.  34.  75.   3.   3.  36.  10.   2.  75.  75.  56.  34.  40.\n",
            "  38.  53.  36.  91.  55.  74.   7.   1.  54.  52.  56.   9.   2.   8.\n",
            "   7.  41.   6.  22.  49.   3.  12.   1.  65.  45.  74.  95.   3.  45.\n",
            "  41.  11.  68.  61.  60.   4.  97.  17.  62.   1.  21.   6.  71.  40.\n",
            "  46.  58.  22.   7.  90.  19.  53.  21.  22.  44.  91.   1.   8.  11.\n",
            "  32.  75.   8.  35.   2.  32.  55.  26.  58.  34.  13.  53.   8.  46.\n",
            "  60.   1.   1.  61.  66.  60.  13.  19.  71.  19.  46.  50.  27.  74.\n",
            "  55.   8.  23.  16.   1.  72.   6.  60.   4.  64.  18.  40.  55.  45.\n",
            "  71.  87.  55.   6.  33.  52.  47.  27.  69.  57.  81.  20.  17.  40.\n",
            "   1.  24.  89.  45.  27.  26.  23.   2.  23.  21.  37.  20.  89.  55.\n",
            "  13.   6.   1.  95.  41.  38.  64.  85.  34.  75.  21.  54.  55.  78.\n",
            "  14.   8.  78.   3.   5.  59.  68.   6.  24.  22.  43.   7.  86.  47.\n",
            "  13.  46.  81.  57.  97.   8.  83.  50.  53.  48.   7.   1.   1.  85.\n",
            "  86.  22.   9.   7.   6.   1.  10.  16.  83.  42.   4.   7.   7.  66.\n",
            "  12.  51.  71.   1.  58.  36.  35.  60.  38.  41.  43.  20.   2.  34.\n",
            "  11.  68.   3.   3.  40.  47.  27.  36.  14.  62.  87.  16.  41.   7.\n",
            "  19.  61.  17.  17.  18.  20.   3.  63.  22.  46.   5.  51.  23.  23.\n",
            "  24.  34.  70.  16.  11.  12.  49.  37.   1.  40.  55.  28.  85.   5.\n",
            "  18.  11.  73.  12.   5.  54.   9.  40.   5.   7.  62.  43.  61.  67.\n",
            "  77.  13.  10. 100.  14.  74.   8.  35.  11.   8.   7.   3.   8.  53.\n",
            "  67.  10.  68.   6.  24.   1.  15.  13.  14.  51.  65.  80.  61.  19.\n",
            "  10.  32.  15.  31.  78.   1.   1.   9.   1.  68.   1.  18.  27.  20.\n",
            "  38.  33.   7.  26.  42.   2.  54.  37.  20.  62.  56.  25.   6.  36.\n",
            "  18.  37.  22.  57.  46.  13.  63.  37.  31.   1.  25.  41.  29.  20.\n",
            "  17.  21.  50.  54.  13. 100.  19.  16.  45.  37.  22.   4.  16.  36.\n",
            "   1.   7.   2.  38.   2.  20.   3.  43.   6.  26.  41.  51.  33.  25.\n",
            "  30.   7.  22.   3.  34.  23.  67.  55.  13.  71.  23.  24.  47.  26.\n",
            "  23.   4.  21.  23.   4.  13.   7.   2.  46.  16.  62.  28.   7.   8.\n",
            "  58.  62.  12.  30.  58.  58.  39.   1.  26.   6.   3.  55.  58.  12.\n",
            "  80.  13.  26.  54.   8.  31.  65.  32.   4.  16.  20.  65.   6.   2.\n",
            "  54.  14.   2.   8.   2.  51.  22.  59.  25.  10.  23.  59.  22.  66.\n",
            "  75.   6.  86.  46.  15.  19.  10.  76.   1.  21.  13.   3.   7.   9.\n",
            "  22.  46.  51.  16.  61.  12.  50.  30.  48.  41.  46.   6.  53.   3.\n",
            "   8.  46.   2.  35.  43.   7.  32.  42.  41.  14.   1.  54.  55.  82.\n",
            "   4.  31.  32.  68.  91.   3.   1.  14.   1.  17.   3.  96.   2.  18.\n",
            "  61.  37.]\n"
          ]
        },
        {
          "output_type": "display_data",
          "data": {
            "text/plain": [
              "<Figure size 640x480 with 1 Axes>"
            ],
            "image/png": "[encoded data removed]"
          },
          "metadata": {}
        }
      ]
    },
    {
      "cell_type": "markdown",
      "source": [
        "- 80から100このクラスターに属しているユーザーが70人くらいいる\n",
        "- 一番多くいるのは1から10個のクラスターに属しているユーザー\n",
        "\n",
        "→多くのクラスターに属している対象がモデルユーザー、あまりクラスターに属していないユーザーをノイズと考えるなら、クラスターを増やすごとにノイズが省かれて行って、ノイズ除去機構のように働いたと考えるのが妥当？\n",
        "\n",
        "ただ、例えば、一つのクラスターにだけ属しているユーザーがいたとして、そのクラスターは何人のユーザーを持っているのか、というようなことも確認しないといけない。（11/14）\n"
      ],
      "metadata": {
        "id": "0OHEfRLTRhwt"
      }
    },
    {
      "cell_type": "code",
      "source": [
        "# 可視化\n",
        "name = \"needs_RSCCMM_cluster\"\n",
        "C = 100\n",
        "auc_max, every_cluster_objs_max, n_overlaps_max, w_max, output = RSCCMM_CF_AUC_CLUSTER(1, test_needs, X_needs, C, -7)\n",
        "\n",
        "plt.bar(range(C), every_cluster_objs_max, width=0.6)\n",
        "\n",
        "# plt.legend()\n",
        "plt.title('number of elements in each cluster')\n",
        "plt.xlabel('cluster number')\n",
        "plt.ylabel('number of elements')\n",
        "plt.savefig(f\"{name}.png\", format=\"png\", dpi=300)\n",
        "\n",
        "csv_output = [[\"AUC\", \"各クラスターの要素数\", \"オーバーラップしている要素の数\", \"オーバーラップしていない要素の数\"]]\n",
        "for row in output:\n",
        "  csv_output.append(row)\n",
        "print(csv_output)\n",
        "\n",
        "with open(f'{name}.csv', 'wt', encoding='utf-8', newline='') as fout:\n",
        "    writer = csv.writer(fout)\n",
        "    writer.writerows(csv_output)"
      ],
      "metadata": {
        "colab": {
          "base_uri": "https://localhost:8080/",
          "height": 509
        },
        "id": "aI3HHzqu0iGj",
        "outputId": "8c3e107c-4c53-405b-cfe2-558a34cfe9d5"
      },
      "execution_count": 5,
      "outputs": [
        {
          "output_type": "stream",
          "name": "stdout",
          "text": [
            "[['AUC', '各クラスターの要素数', 'オーバーラップしている要素の数', 'オーバーラップしていない要素の数'], [0.8473652734400956, '156.0, 512.0, 237.0, 541.0, 429.0, 529.0, 364.0, 691.0, 542.0, 417.0, 281.0, 402.0, 367.0, 526.0, 568.0, 240.0, 442.0, 760.0, 434.0, 566.0, 462.0, 64.0, 43.0, 187.0, 473.0, 239.0, 506.0, 450.0, 387.0, 64.0, 241.0, 556.0, 43.0, 657.0, 64.0, 308.0, 269.0, 454.0, 288.0, 568.0, 313.0, 773.0, 198.0, 326.0, 684.0, 367.0, 66.0, 43.0, 181.0, 167.0, 613.0, 572.0, 43.0, 43.0, 360.0, 515.0, 43.0, 146.0, 123.0, 646.0, 354.0, 43.0, 108.0, 413.0, 610.0, 293.0, 269.0, 443.0, 308.0, 110.0, 121.0, 516.0, 43.0, 511.0, 321.0, 43.0, 341.0, 324.0, 644.0, 332.0, 43.0, 350.0, 320.0, 202.0, 678.0, 435.0, 129.0, 512.0, 43.0, 43.0, 290.0, 594.0, 464.0, 43.0, 570.0, 75.0, 258.0, 292.0, 736.0, 167.0', 962.0, 34.0]]\n"
          ]
        },
        {
          "output_type": "display_data",
          "data": {
            "text/plain": [
              "<Figure size 640x480 with 1 Axes>"
            ],
            "image/png": "[encoded data removed]"
          },
          "metadata": {}
        }
      ]
    },
    {
      "cell_type": "code",
      "source": [
        "対象別で所属しているクラスターの数"
      ],
      "metadata": {
        "id": "T5umHz-67azA"
      },
      "execution_count": null,
      "outputs": []
    }
  ]
}