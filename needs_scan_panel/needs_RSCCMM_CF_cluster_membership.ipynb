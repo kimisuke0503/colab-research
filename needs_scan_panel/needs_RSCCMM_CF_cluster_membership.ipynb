{
  "nbformat": 4,
  "nbformat_minor": 0,
  "metadata": {
    "colab": {
      "provenance": [],
      "authorship_tag": "ABX9TyMPzI336G2BJsS0dOVfSEle",
      "include_colab_link": true
    },
    "kernelspec": {
      "name": "python3",
      "display_name": "Python 3"
    },
    "language_info": {
      "name": "python"
    }
  },
  "cells": [
    {
      "cell_type": "markdown",
      "metadata": {
        "id": "view-in-github",
        "colab_type": "text"
      },
      "source": [
        "<a href=\"https://colab.research.google.com/github/kimisuke0503/colab-research/blob/main/needs_scan_panel/needs_RSCCMM_CF_cluster_membership.ipynb\" target=\"_parent\"><img src=\"https://colab.research.google.com/assets/colab-badge.svg\" alt=\"Open In Colab\"/></a>"
      ]
    },
    {
      "cell_type": "code",
      "execution_count": 1,
      "metadata": {
        "id": "Ye14_j57x93R"
      },
      "outputs": [],
      "source": [
        "#ライブラリ\n",
        "import pandas as pd\n",
        "import numpy as np\n",
        "import random\n",
        "import sys\n",
        "from sklearn.metrics import roc_curve\n",
        "from sklearn.metrics import roc_auc_score\n",
        "import matplotlib.pyplot as plt\n",
        "import csv\n",
        "import openpyxl as op"
      ]
    },
    {
      "cell_type": "code",
      "source": [
        "import pandas as pd\n",
        "data_training = pd.read_csv('needs_scan_panel_training.csv', header=None)\n",
        "data_test = pd.read_csv('needs_scan_panel_test.csv', header=None)\n",
        "X_needs = data_training.values\n",
        "test_needs = data_test.values\n",
        "print(X_needs.shape)\n",
        "print(test_needs)"
      ],
      "metadata": {
        "colab": {
          "base_uri": "https://localhost:8080/"
        },
        "id": "FnvHxS_Pzvcu",
        "outputId": "97deba19-d34f-4d95-e772-48a7aeb371cc"
      },
      "execution_count": 12,
      "outputs": [
        {
          "output_type": "stream",
          "name": "stdout",
          "text": [
            "(996, 18)\n",
            "[[  1   1   0]\n",
            " [  2   4   0]\n",
            " [  2   8   0]\n",
            " ...\n",
            " [993   1   0]\n",
            " [993   2   1]\n",
            " [995   8   0]]\n"
          ]
        }
      ]
    },
    {
      "cell_type": "code",
      "source": [
        "import numpy as np\n",
        "import sys\n",
        "import random\n",
        "\n",
        "#関数化\n",
        "def RSCCMM(X, C, delta):\n",
        "  n, m = X.shape\n",
        "  u = np.zeros((C,n))\n",
        "  normalized_u = np.zeros((C,n))\n",
        "\n",
        "  #要素の正規化\n",
        "  #sys.float_info.epsilon を足してないと、類似度計算の時にlog(0)となってNaNが発生する\n",
        "  # X = X + sys.float_info.epsilon\n",
        "  # np.where(X == 0, sys.float_info.epsilon, X)\n",
        "  normalized_X = X / np.sum(X, 1)[:, np.newaxis]\n",
        "\n",
        "  #類似度\n",
        "  s_it = np.array([np.sum(normalized_X * np.log(row + sys.float_info.epsilon), 1) for row in normalized_X])\n",
        "\n",
        "  #二項関係\n",
        "  #deltaの値が小さすぎると二項関係がなくなって、(※)式のところでゼロ徐算が発生する\n",
        "  R = (s_it >= delta).astype(np.float64)\n",
        "\n",
        "  #初期項目メンバシップ\n",
        "  w = np.array([X[c] + sys.float_info.epsilon for c in random.sample(range(n), C)])\n",
        "  w /= w.sum(1)[:,np.newaxis]\n",
        "\n",
        "  #繰り返し処理\n",
        "  for i in range(100):\n",
        "    old_u = normalized_u.copy()\n",
        "    u = np.zeros((C,n))\n",
        "    normalized_u = np.zeros((C,n))\n",
        "\n",
        "    #HCCMM的なクラスター割り当てによるメンバシップ\n",
        "    s = np.log(w) @ X.T\n",
        "    s_max = np.max(s, 0)\n",
        "    u = (s >= s_max).astype(np.float64)\n",
        "\n",
        "    #粒状性（二項関係）を考慮した上近似メンバシップ\n",
        "    if(np.any(np.sum(R, 1) == 0)):\n",
        "       raise Exception(\"二項関係がない\")\n",
        "    rough_u = ((u @ R.T) / np.sum(R, 1) > 0).astype(np.float64) #(※)\n",
        "    normalized_u = rough_u / rough_u.sum(0)\n",
        "\n",
        "    #正規化メンバシップ更新\n",
        "    #ここでも微小値を足していないと次の類似度計算の時にNaNになって計算できなくなる\n",
        "    w = (normalized_u @ X) + sys.float_info.epsilon\n",
        "    if(np.any(np.isnan(w.sum(1)))):\n",
        "      raise Exception(\"NaN発生\")\n",
        "    w /= w.sum(1)[:, np.newaxis]\n",
        "\n",
        "    if np.abs(normalized_u - old_u).max() == 0:\n",
        "      break\n",
        "\n",
        "  return normalized_u.T @ w, rough_u, w"
      ],
      "metadata": {
        "id": "0M2_43tv0E5U"
      },
      "execution_count": 3,
      "outputs": []
    },
    {
      "cell_type": "code",
      "source": [
        "#roopの回数を指定し、最大のaucとその時のクラスター構造を返す関数(RSCCMM)\n",
        "from sklearn.metrics import roc_auc_score\n",
        "\n",
        "def RSCCMM_CF_AUC_CLUSTER(roop, test, X, C, delta):\n",
        "  n, m = X.shape\n",
        "  test_num, test_num_fact = test.shape\n",
        "  auc_max = 0\n",
        "  delta_max = 0\n",
        "  every_cluster_objs_max = 0\n",
        "  n_overlaps_max = 0\n",
        "  w_max = 0\n",
        "  output = []\n",
        "\n",
        "  test_true = np.zeros(test_num)\n",
        "  r_test_score = np.zeros(test_num)\n",
        "\n",
        "  for i in range(test_num):\n",
        "    test_true[i] = test[i][2]\n",
        "\n",
        "  for i in range(roop):\n",
        "    r, rough_u, w = RSCCMM(X, C, delta) # RSCCM法を適用\n",
        "    every_cluster_objs = np.sum(rough_u, axis=1) # 各クラスターの要素数\n",
        "    n_overlaps = np.sum((np.sum(rough_u, axis=0) > 1).astype(np.float64)) # オーバーラップした要素数\n",
        "\n",
        "    for j in range(test_num):\n",
        "      r_test_score[j] = r[test[j][0]][test[j][1]]\n",
        "\n",
        "    auc = roc_auc_score(test_true, r_test_score) # AUCを計算\n",
        "    output.append([auc, ', '.join(map(str, every_cluster_objs)), n_overlaps, X.shape[0] - n_overlaps])\n",
        "\n",
        "    if auc > auc_max:\n",
        "      auc_max = auc\n",
        "      w_max = w\n",
        "      delta_max = delta\n",
        "      every_cluster_objs_max = every_cluster_objs\n",
        "      n_overlaps_max = n_overlaps\n",
        "\n",
        "\n",
        "  return auc_max, every_cluster_objs_max, n_overlaps_max, w_max, output\n",
        "\n",
        "print(RSCCMM_CF_AUC_CLUSTER(10, test_needs, X_needs, 100, -7))"
      ],
      "metadata": {
        "colab": {
          "base_uri": "https://localhost:8080/"
        },
        "id": "VpLRarEu0f5L",
        "outputId": "5bfde239-e131-4a0e-bdb4-f2c647cc7de2"
      },
      "execution_count": 13,
      "outputs": [
        {
          "output_type": "stream",
          "name": "stdout",
          "text": [
            "(0.85113421157552, array([514., 488., 292., 240., 312., 362., 182., 199., 108., 429., 190.,\n",
            "       717., 736., 473., 107., 542., 473., 337., 168., 440., 354.,  64.,\n",
            "       485., 512., 417., 217., 242., 415., 504., 323., 760., 450.,  64.,\n",
            "       658.,  64., 376.,  64.,  64., 491., 458., 373., 566.,  48., 159.,\n",
            "       493., 183., 512., 174., 502., 568., 188., 597., 239., 275., 367.,\n",
            "       237., 357., 478., 675., 752., 609., 445., 346., 340., 281., 310.,\n",
            "       449., 238., 416., 407., 472.,  27., 246., 415., 614., 703., 337.,\n",
            "       203.,  98., 147.,  64.,  64., 107., 302., 201., 305., 333., 503.,\n",
            "       628., 263., 223., 428.,  49., 439., 303., 375., 677., 107., 566.,\n",
            "       551.]), 957.0, array([[0.06638434, 0.03537262, 0.08058963, ..., 0.0951655 , 0.01892697,\n",
            "        0.04786377],\n",
            "       [0.06713703, 0.03114933, 0.08993013, ..., 0.08861389, 0.01715268,\n",
            "        0.0194394 ],\n",
            "       [0.08186657, 0.06381191, 0.08445072, ..., 0.08387384, 0.01767993,\n",
            "        0.02079728],\n",
            "       ...,\n",
            "       [0.06001552, 0.02833363, 0.06835832, ..., 0.07611036, 0.05851706,\n",
            "        0.05305206],\n",
            "       [0.0832767 , 0.03024485, 0.08919898, ..., 0.08884303, 0.01944068,\n",
            "        0.0249283 ],\n",
            "       [0.06611176, 0.02484596, 0.08843888, ..., 0.09502537, 0.02554696,\n",
            "        0.01782063]]), [[0.8464225197687554, '474.0, 312.0, 114.0, 65.0, 194.0, 806.0, 736.0, 321.0, 229.0, 497.0, 305.0, 189.0, 28.0, 493.0, 688.0, 243.0, 572.0, 183.0, 28.0, 397.0, 332.0, 225.0, 320.0, 65.0, 288.0, 182.0, 325.0, 65.0, 421.0, 65.0, 405.0, 522.0, 488.0, 413.0, 353.0, 760.0, 491.0, 500.0, 224.0, 413.0, 325.0, 544.0, 619.0, 375.0, 653.0, 443.0, 473.0, 370.0, 73.0, 575.0, 65.0, 602.0, 295.0, 354.0, 182.0, 357.0, 495.0, 652.0, 713.0, 133.0, 65.0, 317.0, 65.0, 560.0, 439.0, 449.0, 158.0, 423.0, 529.0, 597.0, 587.0, 495.0, 223.0, 471.0, 426.0, 257.0, 438.0, 424.0, 70.0, 193.0, 73.0, 129.0, 310.0, 235.0, 167.0, 461.0, 224.0, 319.0, 292.0, 585.0, 402.0, 282.0, 213.0, 65.0, 65.0, 528.0, 147.0, 135.0, 561.0, 333.0', 960.0, 36.0], [0.8465138879659778, '141.0, 444.0, 638.0, 488.0, 197.0, 183.0, 495.0, 226.0, 436.0, 204.0, 138.0, 673.0, 183.0, 539.0, 352.0, 446.0, 359.0, 84.0, 113.0, 375.0, 442.0, 346.0, 601.0, 468.0, 444.0, 449.0, 529.0, 385.0, 506.0, 84.0, 305.0, 418.0, 781.0, 84.0, 84.0, 415.0, 262.0, 501.0, 622.0, 84.0, 130.0, 84.0, 113.0, 697.0, 224.0, 47.0, 153.0, 488.0, 286.0, 138.0, 340.0, 47.0, 352.0, 302.0, 298.0, 84.0, 642.0, 370.0, 84.0, 84.0, 537.0, 423.0, 325.0, 84.0, 248.0, 736.0, 425.0, 533.0, 267.0, 697.0, 282.0, 607.0, 49.0, 495.0, 588.0, 84.0, 614.0, 442.0, 351.0, 84.0, 390.0, 237.0, 425.0, 84.0, 499.0, 249.0, 47.0, 300.0, 308.0, 167.0, 284.0, 222.0, 84.0, 405.0, 49.0, 207.0, 566.0, 760.0, 374.0, 28.0', 957.0, 39.0], [0.8491511063858064, '344.0, 524.0, 370.0, 520.0, 52.0, 446.0, 429.0, 219.0, 574.0, 473.0, 430.0, 736.0, 186.0, 250.0, 52.0, 185.0, 474.0, 321.0, 299.0, 52.0, 289.0, 362.0, 52.0, 193.0, 389.0, 367.0, 529.0, 52.0, 419.0, 52.0, 52.0, 655.0, 163.0, 52.0, 13.0, 474.0, 376.0, 98.0, 210.0, 134.0, 727.0, 153.0, 332.0, 426.0, 641.0, 638.0, 376.0, 204.0, 474.0, 426.0, 360.0, 602.0, 760.0, 272.0, 204.0, 534.0, 378.0, 787.0, 52.0, 388.0, 320.0, 98.0, 570.0, 249.0, 489.0, 655.0, 276.0, 98.0, 204.0, 52.0, 52.0, 250.0, 284.0, 339.0, 307.0, 575.0, 471.0, 261.0, 478.0, 52.0, 310.0, 52.0, 479.0, 435.0, 204.0, 608.0, 416.0, 593.0, 191.0, 443.0, 357.0, 494.0, 52.0, 359.0, 474.0, 505.0, 224.0, 167.0, 300.0, 426.0', 957.0, 39.0], [0.8460279752807496, '284.0, 804.0, 365.0, 245.0, 233.0, 403.0, 471.0, 306.0, 594.0, 185.0, 512.0, 192.0, 310.0, 437.0, 245.0, 223.0, 650.0, 387.0, 366.0, 574.0, 218.0, 245.0, 387.0, 306.0, 46.0, 300.0, 495.0, 437.0, 245.0, 245.0, 566.0, 354.0, 655.0, 527.0, 160.0, 298.0, 436.0, 300.0, 358.0, 528.0, 150.0, 250.0, 108.0, 736.0, 242.0, 396.0, 458.0, 641.0, 245.0, 385.0, 245.0, 245.0, 297.0, 531.0, 442.0, 404.0, 245.0, 204.0, 514.0, 419.0, 245.0, 500.0, 633.0, 553.0, 495.0, 204.0, 539.0, 339.0, 245.0, 282.0, 245.0, 72.0, 156.0, 61.0, 489.0, 131.0, 292.0, 13.0, 425.0, 495.0, 463.0, 308.0, 225.0, 599.0, 387.0, 478.0, 245.0, 245.0, 359.0, 149.0, 635.0, 494.0, 154.0, 738.0, 443.0, 245.0, 489.0, 245.0, 245.0, 760.0', 960.0, 36.0], [0.8504967107449, '405.0, 296.0, 243.0, 292.0, 736.0, 594.0, 404.0, 406.0, 518.0, 386.0, 464.0, 66.0, 103.0, 249.0, 103.0, 765.0, 103.0, 103.0, 599.0, 431.0, 252.0, 238.0, 439.0, 339.0, 487.0, 667.0, 129.0, 66.0, 738.0, 568.0, 301.0, 228.0, 373.0, 31.0, 441.0, 229.0, 103.0, 447.0, 150.0, 562.0, 447.0, 103.0, 411.0, 416.0, 352.0, 103.0, 374.0, 249.0, 251.0, 635.0, 103.0, 454.0, 578.0, 653.0, 103.0, 230.0, 103.0, 465.0, 400.0, 507.0, 489.0, 272.0, 66.0, 126.0, 538.0, 257.0, 449.0, 272.0, 103.0, 489.0, 103.0, 470.0, 103.0, 594.0, 59.0, 110.0, 103.0, 571.0, 103.0, 349.0, 369.0, 760.0, 215.0, 354.0, 570.0, 375.0, 542.0, 673.0, 265.0, 121.0, 440.0, 239.0, 103.0, 500.0, 442.0, 541.0, 103.0, 386.0, 167.0, 454.0', 959.0, 37.0], [0.8488707721443286, '479.0, 512.0, 561.0, 321.0, 348.0, 39.0, 399.0, 27.0, 474.0, 572.0, 255.0, 298.0, 13.0, 344.0, 84.0, 78.0, 39.0, 206.0, 131.0, 773.0, 687.0, 263.0, 149.0, 166.0, 578.0, 673.0, 479.0, 585.0, 370.0, 376.0, 748.0, 259.0, 344.0, 385.0, 357.0, 306.0, 760.0, 454.0, 642.0, 311.0, 471.0, 119.0, 84.0, 298.0, 380.0, 449.0, 635.0, 305.0, 361.0, 80.0, 224.0, 500.0, 183.0, 366.0, 180.0, 598.0, 237.0, 135.0, 235.0, 405.0, 445.0, 262.0, 167.0, 221.0, 445.0, 569.0, 289.0, 84.0, 179.0, 196.0, 703.0, 574.0, 515.0, 438.0, 214.0, 503.0, 498.0, 494.0, 165.0, 272.0, 84.0, 471.0, 333.0, 141.0, 84.0, 269.0, 495.0, 281.0, 392.0, 223.0, 199.0, 520.0, 428.0, 488.0, 402.0, 473.0, 138.0, 84.0, 330.0, 348.0', 960.0, 36.0], [0.8504925576450262, '574.0, 61.0, 102.0, 568.0, 736.0, 437.0, 461.0, 311.0, 413.0, 516.0, 245.0, 506.0, 411.0, 212.0, 760.0, 287.0, 249.0, 353.0, 625.0, 320.0, 391.0, 538.0, 356.0, 122.0, 47.0, 555.0, 357.0, 355.0, 167.0, 61.0, 480.0, 61.0, 566.0, 324.0, 319.0, 266.0, 367.0, 355.0, 133.0, 152.0, 269.0, 205.0, 768.0, 421.0, 500.0, 61.0, 655.0, 380.0, 736.0, 102.0, 430.0, 102.0, 86.0, 178.0, 491.0, 453.0, 154.0, 413.0, 373.0, 38.0, 377.0, 22.0, 643.0, 522.0, 112.0, 387.0, 402.0, 411.0, 289.0, 494.0, 366.0, 416.0, 20.0, 333.0, 474.0, 259.0, 402.0, 333.0, 413.0, 256.0, 697.0, 184.0, 359.0, 61.0, 529.0, 38.0, 557.0, 320.0, 638.0, 445.0, 489.0, 574.0, 594.0, 237.0, 314.0, 317.0, 404.0, 657.0, 320.0, 338.0', 961.0, 35.0], [0.8482000465147186, '131.0, 256.0, 266.0, 622.0, 64.0, 64.0, 330.0, 760.0, 418.0, 164.0, 474.0, 345.0, 482.0, 64.0, 74.0, 74.0, 455.0, 736.0, 167.0, 696.0, 64.0, 373.0, 202.0, 64.0, 52.0, 137.0, 97.0, 658.0, 292.0, 387.0, 424.0, 64.0, 203.0, 566.0, 301.0, 439.0, 280.0, 726.0, 387.0, 568.0, 265.0, 269.0, 516.0, 520.0, 64.0, 244.0, 338.0, 158.0, 163.0, 134.0, 74.0, 479.0, 407.0, 736.0, 247.0, 695.0, 473.0, 635.0, 200.0, 586.0, 593.0, 64.0, 64.0, 341.0, 199.0, 537.0, 575.0, 298.0, 443.0, 414.0, 132.0, 215.0, 466.0, 529.0, 196.0, 257.0, 292.0, 143.0, 404.0, 396.0, 766.0, 74.0, 538.0, 64.0, 433.0, 384.0, 332.0, 294.0, 586.0, 467.0, 185.0, 64.0, 342.0, 366.0, 493.0, 488.0, 501.0, 413.0, 365.0, 517.0', 962.0, 34.0], [0.85113421157552, '514.0, 488.0, 292.0, 240.0, 312.0, 362.0, 182.0, 199.0, 108.0, 429.0, 190.0, 717.0, 736.0, 473.0, 107.0, 542.0, 473.0, 337.0, 168.0, 440.0, 354.0, 64.0, 485.0, 512.0, 417.0, 217.0, 242.0, 415.0, 504.0, 323.0, 760.0, 450.0, 64.0, 658.0, 64.0, 376.0, 64.0, 64.0, 491.0, 458.0, 373.0, 566.0, 48.0, 159.0, 493.0, 183.0, 512.0, 174.0, 502.0, 568.0, 188.0, 597.0, 239.0, 275.0, 367.0, 237.0, 357.0, 478.0, 675.0, 752.0, 609.0, 445.0, 346.0, 340.0, 281.0, 310.0, 449.0, 238.0, 416.0, 407.0, 472.0, 27.0, 246.0, 415.0, 614.0, 703.0, 337.0, 203.0, 98.0, 147.0, 64.0, 64.0, 107.0, 302.0, 201.0, 305.0, 333.0, 503.0, 628.0, 263.0, 223.0, 428.0, 49.0, 439.0, 303.0, 375.0, 677.0, 107.0, 566.0, 551.0', 957.0, 39.0], [0.8472344507940728, '617.0, 240.0, 65.0, 445.0, 31.0, 316.0, 272.0, 401.0, 262.0, 369.0, 655.0, 500.0, 512.0, 31.0, 305.0, 378.0, 315.0, 461.0, 54.0, 65.0, 489.0, 293.0, 333.0, 280.0, 414.0, 445.0, 520.0, 263.0, 54.0, 233.0, 292.0, 808.0, 226.0, 429.0, 529.0, 556.0, 638.0, 219.0, 489.0, 234.0, 448.0, 488.0, 54.0, 243.0, 664.0, 179.0, 529.0, 370.0, 293.0, 272.0, 443.0, 201.0, 185.0, 105.0, 424.0, 54.0, 405.0, 86.0, 54.0, 164.0, 54.0, 31.0, 322.0, 75.0, 410.0, 28.0, 54.0, 456.0, 94.0, 342.0, 316.0, 31.0, 304.0, 445.0, 158.0, 244.0, 354.0, 760.0, 449.0, 65.0, 387.0, 566.0, 236.0, 608.0, 590.0, 482.0, 320.0, 245.0, 152.0, 635.0, 746.0, 265.0, 210.0, 380.0, 282.0, 570.0, 392.0, 233.0, 489.0, 749.0', 956.0, 40.0]])\n"
          ]
        }
      ]
    },
    {
      "cell_type": "code",
      "source": [
        "# 可視化\n",
        "name = \"needs_RSCCMM_cluster\"\n",
        "C = 100\n",
        "auc_max, every_cluster_objs_max, n_overlaps_max, w_max, output = RSCCMM_CF_AUC_CLUSTER(1, test_needs, X_needs, C, -7)\n",
        "\n",
        "plt.bar(range(C), every_cluster_objs_max, width=0.6)\n",
        "\n",
        "# plt.legend()\n",
        "plt.title('number of elements in each cluster')\n",
        "plt.xlabel('cluster number')\n",
        "plt.ylabel('number of elements')\n",
        "plt.savefig(f\"{name}.png\", format=\"png\", dpi=300)\n",
        "\n",
        "csv_output = [[\"AUC\", \"各クラスターの要素数\", \"オーバーラップしている要素の数\", \"オーバーラップしていない要素の数\"]]\n",
        "for row in output:\n",
        "  csv_output.append(row)\n",
        "print(csv_output)\n",
        "\n",
        "with open(f'{name}.csv', 'wt', encoding='utf-8', newline='') as fout:\n",
        "    writer = csv.writer(fout)\n",
        "    writer.writerows(csv_output)"
      ],
      "metadata": {
        "colab": {
          "base_uri": "https://localhost:8080/",
          "height": 509
        },
        "id": "aI3HHzqu0iGj",
        "outputId": "3183d17a-320f-4e7d-f8e0-db862657bad0"
      },
      "execution_count": 15,
      "outputs": [
        {
          "output_type": "stream",
          "name": "stdout",
          "text": [
            "[['AUC', '各クラスターの要素数', 'オーバーラップしている要素の数', 'オーバーラップしていない要素の数'], [0.8461089607282876, '440.0, 406.0, 34.0, 404.0, 719.0, 622.0, 374.0, 473.0, 210.0, 188.0, 474.0, 360.0, 150.0, 166.0, 503.0, 736.0, 550.0, 34.0, 34.0, 34.0, 337.0, 305.0, 229.0, 207.0, 515.0, 355.0, 383.0, 233.0, 129.0, 222.0, 335.0, 763.0, 438.0, 68.0, 295.0, 494.0, 217.0, 196.0, 34.0, 434.0, 183.0, 47.0, 405.0, 574.0, 13.0, 214.0, 614.0, 223.0, 354.0, 724.0, 250.0, 294.0, 317.0, 272.0, 404.0, 592.0, 360.0, 420.0, 445.0, 377.0, 662.0, 34.0, 760.0, 597.0, 277.0, 529.0, 34.0, 105.0, 308.0, 34.0, 536.0, 69.0, 480.0, 454.0, 474.0, 425.0, 203.0, 60.0, 68.0, 312.0, 578.0, 645.0, 124.0, 300.0, 587.0, 34.0, 413.0, 449.0, 736.0, 123.0, 456.0, 370.0, 438.0, 109.0, 226.0, 510.0, 266.0, 187.0, 307.0, 232.0', 960.0, 36.0]]\n"
          ]
        },
        {
          "output_type": "display_data",
          "data": {
            "text/plain": [
              "<Figure size 640x480 with 1 Axes>"
            ],
            "image/png": "[encoded data removed]"
          },
          "metadata": {}
        }
      ]
    },
    {
      "cell_type": "code",
      "source": [
        "対象別で所属しているクラスターの数"
      ],
      "metadata": {
        "id": "T5umHz-67azA"
      },
      "execution_count": null,
      "outputs": []
    }
  ]
}