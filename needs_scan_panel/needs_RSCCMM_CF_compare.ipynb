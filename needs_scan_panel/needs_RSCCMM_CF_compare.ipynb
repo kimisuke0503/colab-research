{
  "nbformat": 4,
  "nbformat_minor": 0,
  "metadata": {
    "colab": {
      "provenance": [],
      "authorship_tag": "ABX9TyOBVSiaCXSodwSzrIQeFxjj",
      "include_colab_link": true
    },
    "kernelspec": {
      "name": "python3",
      "display_name": "Python 3"
    },
    "language_info": {
      "name": "python"
    }
  },
  "cells": [
    {
      "cell_type": "markdown",
      "metadata": {
        "id": "view-in-github",
        "colab_type": "text"
      },
      "source": [
        "<a href=\"https://colab.research.google.com/github/kimisuke0503/colab-research/blob/main/needs_scan_panel/needs_RSCCMM_CF_compare.ipynb\" target=\"_parent\"><img src=\"https://colab.research.google.com/assets/colab-badge.svg\" alt=\"Open In Colab\"/></a>"
      ]
    },
    {
      "cell_type": "code",
      "execution_count": 3,
      "metadata": {
        "id": "MAXgH-XdbdTD"
      },
      "outputs": [],
      "source": [
        "#ライブラリ\n",
        "import pandas as pd\n",
        "import numpy as np\n",
        "import random\n",
        "import sys\n",
        "from sklearn.metrics import roc_curve\n",
        "from sklearn.metrics import roc_auc_score\n",
        "import matplotlib.pyplot as plt\n",
        "import csv\n",
        "import openpyxl as op"
      ]
    },
    {
      "cell_type": "code",
      "source": [
        "import pandas as pd\n",
        "data_training = pd.read_csv('needs_scan_panel_training.csv', header=None)\n",
        "data_test = pd.read_csv('needs_scan_panel_test.csv', header=None)\n",
        "X_needs = data_training.values\n",
        "test_needs = data_test.values\n",
        "print(X_needs)\n",
        "print(test_needs)"
      ],
      "metadata": {
        "colab": {
          "base_uri": "https://localhost:8080/"
        },
        "id": "RQG_Fz5Gbr-h",
        "outputId": "5ebf1bde-f565-4fb2-f7c6-83181a3c31c7"
      },
      "execution_count": 4,
      "outputs": [
        {
          "output_type": "stream",
          "name": "stdout",
          "text": [
            "[[1 0 1 ... 1 1 0]\n",
            " [1 0 0 ... 1 0 1]\n",
            " [0 0 0 ... 1 0 0]\n",
            " ...\n",
            " [1 0 0 ... 1 0 0]\n",
            " [1 1 1 ... 1 0 0]\n",
            " [0 0 1 ... 1 0 0]]\n",
            "[[  1   1   0]\n",
            " [  2   4   0]\n",
            " [  2   8   0]\n",
            " ...\n",
            " [993   1   0]\n",
            " [993   2   1]\n",
            " [995   8   0]]\n"
          ]
        }
      ]
    },
    {
      "cell_type": "code",
      "source": [
        "#関数化\n",
        "def RSCCMM(X, C, delta):\n",
        "  n, m = X.shape\n",
        "  u = np.zeros((C,n))\n",
        "  normalized_u = np.zeros((C,n))\n",
        "\n",
        "  #要素の正規化\n",
        "  #sys.float_info.epsilon を足してないと、類似度計算の時にlog(0)となってNaNが発生する\n",
        "  # X = X + sys.float_info.epsilon\n",
        "  # np.where(X == 0, sys.float_info.epsilon, X)\n",
        "  normalized_X = X / np.sum(X, 1)[:, np.newaxis]\n",
        "\n",
        "  #類似度\n",
        "  s_it = np.array([np.sum(normalized_X * np.log(row + sys.float_info.epsilon), 1) for row in normalized_X])\n",
        "\n",
        "  #二項関係\n",
        "  #deltaの値が小さすぎると二項関係がなくなって、(※)式のところでゼロ徐算が発生する\n",
        "  R = (s_it >= delta).astype(np.float64)\n",
        "\n",
        "  #初期項目メンバシップ\n",
        "  w = np.array([X[c] + sys.float_info.epsilon for c in random.sample(range(n), C)])\n",
        "  w /= w.sum(1)[:,np.newaxis]\n",
        "\n",
        "  #繰り返し処理\n",
        "  for i in range(100):\n",
        "    old_u = normalized_u.copy()\n",
        "    u = np.zeros((C,n))\n",
        "    normalized_u = np.zeros((C,n))\n",
        "\n",
        "    #HCCMM的なクラスター割り当てによるメンバシップ\n",
        "    s = np.log(w) @ X.T\n",
        "    s_max = np.max(s, 0)\n",
        "    u = (s >= s_max).astype(np.float64)\n",
        "\n",
        "    #粒状性（二項関係）を考慮した上近似メンバシップ\n",
        "    if(np.any(np.sum(R, 1) == 0)):\n",
        "       raise Exception(\"二項関係がない\")\n",
        "    rough_u = ((u @ R.T) / np.sum(R, 1) > 0).astype(np.float64) #(※)\n",
        "    normalized_u = rough_u / rough_u.sum(0)\n",
        "\n",
        "    #正規化メンバシップ更新\n",
        "    #ここでも微小値を足していないと次の類似度計算の時にNaNになって計算できなくなる\n",
        "    w = (normalized_u @ X) + sys.float_info.epsilon\n",
        "    if(np.any(np.isnan(w.sum(1)))):\n",
        "      raise Exception(\"NaN発生\")\n",
        "    w /= w.sum(1)[:, np.newaxis]\n",
        "\n",
        "    if np.abs(normalized_u - old_u).max() == 0:\n",
        "      break\n",
        "\n",
        "  return normalized_u.T @ w, rough_u"
      ],
      "metadata": {
        "id": "9IKlFB2MbuhP"
      },
      "execution_count": 5,
      "outputs": []
    },
    {
      "cell_type": "code",
      "source": [
        "#roopの回数を指定し、平均のaucを返す関数返す関数(RSCCMM)\n",
        "from sklearn.metrics import roc_auc_score\n",
        "\n",
        "def RSCCMM_CF_AUC_AVE(roop, test, X, C, delta):\n",
        "  n, m = X.shape\n",
        "  test_num, test_num_fact = test.shape\n",
        "  auc_sum = 0\n",
        "  test_true = np.zeros(test_num)\n",
        "  r_test_score = np.zeros(test_num)\n",
        "\n",
        "  for i in range(test_num):\n",
        "    test_true[i] = test[i][2]\n",
        "\n",
        "  for i in range(roop):\n",
        "    r, rough_u = RSCCMM(X, C, delta)\n",
        "    # print(f\"各クラスターの要素数: {np.sum(rough_u, axis=1)}\")\n",
        "\n",
        "    n_overlaps = np.sum((np.sum(rough_u, axis=0) > 1).astype(np.float64))\n",
        "    # print(f\"オーバーラップしている要素の数: {n_overlaps}\")\n",
        "    # print(f\"オーバーラップしていない要素の数: {X.shape[0] - n_overlaps}\")\n",
        "\n",
        "    for j in range(test_num):\n",
        "      r_test_score[j] = r[test[j][0]][test[j][1]]\n",
        "\n",
        "    auc = roc_auc_score(test_true, r_test_score)\n",
        "    auc_sum += auc\n",
        "\n",
        "  return auc_sum/roop\n",
        "\n",
        "print(RSCCMM_CF_AUC_AVE(1, test_needs, X_needs, 5, -7.43))"
      ],
      "metadata": {
        "colab": {
          "base_uri": "https://localhost:8080/"
        },
        "id": "RFhbzjZSbxoO",
        "outputId": "d15d0630-433a-4662-dc26-1e9a3af20724"
      },
      "execution_count": 6,
      "outputs": [
        {
          "output_type": "stream",
          "name": "stdout",
          "text": [
            "0.8456978038407867\n"
          ]
        }
      ]
    },
    {
      "cell_type": "code",
      "source": [
        "#RCCMM\n",
        "def RCCMM_CF(X, C, a, b):\n",
        "  n, m = X.shape\n",
        "  u = np.zeros((C,n))\n",
        "  w = np.zeros((C,m))\n",
        "  s = np.zeros((C,n))\n",
        "  r = np.zeros((n,m))\n",
        "  r_ = np.zeros((n,m))\n",
        "\n",
        "  w = np.array([X[c] + sys.float_info.epsilon for c in random.sample(range(n), C)])\n",
        "  w /= w.sum(1)[:,np.newaxis]\n",
        "\n",
        "  for step in range(100):\n",
        "    u_old = u.copy()\n",
        "    u = np.zeros((C,n))\n",
        "\n",
        "    s = np.log(w) @ X.T\n",
        "\n",
        "    s_max = s.max(0)\n",
        "    u = (s >= a * s_max + b).astype(np.float64)\n",
        "    u /= u.sum(0)\n",
        "\n",
        "    w = (u @ X) + sys.float_info.epsilon\n",
        "    w /= w.sum(1)[:, np.newaxis]\n",
        "\n",
        "    if np.abs(u - u_old).max() == 0:\n",
        "      break\n",
        "\n",
        "  if any(u.sum(1) == 0):\n",
        "    raise Exception('要素数0のクラスター発生')\n",
        "\n",
        "  r = u.T @ w\n",
        "  r_ = u.T @ np.log(w)\n",
        "\n",
        "  return r, r_"
      ],
      "metadata": {
        "id": "NOMU0oBhb4W8"
      },
      "execution_count": 7,
      "outputs": []
    },
    {
      "cell_type": "code",
      "source": [
        "#roopの回数を指定し、平均のaucを返す関数返す関数(RCCMM)\n",
        "def RCCMM_CF_AUC_AVE(roop, test, X, C, alpha, beta):\n",
        "  n, m = X.shape\n",
        "  test_num, test_num_fact = test.shape\n",
        "  auc_sum = 0\n",
        "  auc__sum = 0\n",
        "  test_true = np.zeros(test_num)\n",
        "  r_test_score = np.zeros(test_num)\n",
        "  r__test_score = np.zeros(test_num)\n",
        "  for i in range(test_num):\n",
        "    test_true[i] = test[i][2]\n",
        "\n",
        "  for i in range(roop):\n",
        "    r, r_ = RCCMM_CF(X, C, alpha, beta)\n",
        "\n",
        "    for j in range(test_num):\n",
        "      r_test_score[j] = r[test[j][0]][test[j][1]]\n",
        "      r__test_score[j] = r_[test[j][0]][test[j][1]]\n",
        "\n",
        "    auc = roc_auc_score(test_true, r_test_score)\n",
        "    auc_ = roc_auc_score(test_true, r__test_score)\n",
        "    auc_sum += auc\n",
        "    auc__sum += auc_\n",
        "\n",
        "  return auc_sum/roop, auc__sum/roop\n",
        "\n",
        "print(RCCMM_CF_AUC_AVE(10, test_needs, X_needs, 30, 1.2, -5))"
      ],
      "metadata": {
        "colab": {
          "base_uri": "https://localhost:8080/"
        },
        "id": "jySytQBPcEpn",
        "outputId": "0616adda-eb18-40ed-a349-0081da1ee059"
      },
      "execution_count": 8,
      "outputs": [
        {
          "output_type": "stream",
          "name": "stdout",
          "text": [
            "(0.845843162336368, 0.7709006827696192)\n"
          ]
        }
      ]
    },
    {
      "cell_type": "code",
      "source": [
        "# 共通設定\n",
        "name = \"NEEDS_RSCCMM_RCCMM_compare\"\n",
        "roop = 10\n",
        "x_C = np.arange(1,11,1)\n",
        "output_rows = []\n",
        "output = [x_C.tolist()]\n",
        "\n",
        "\n",
        "# RSCCMM-CFの設定\n",
        "y_RSCCMM_auc_ave = []\n",
        "delta_list = np.arange(-5, -10.1, -0.5)\n",
        "output_rows.append([\"\", ', '.join(map(str, x_C)), \"auc\", ', '.join(map(str, delta_list)), \"無し\"])\n",
        "\n",
        "# 実行\n",
        "for c in x_C:\n",
        "  auc_ave_latest = 0\n",
        "  delta_ = 0\n",
        "  for delta in delta_list:\n",
        "    auc_ave = RSCCMM_CF_AUC_AVE(roop, test_needs, X_needs, c, delta)\n",
        "    if auc_ave > auc_ave_latest:\n",
        "      auc_ave_latest = auc_ave\n",
        "      delta_ = delta\n",
        "\n",
        "  output_rows.append([\"RSCCMM-CF\", c, auc_ave_latest, delta_, 0])\n",
        "  y_RSCCMM_auc_ave.append(auc_ave_latest)\n",
        "\n",
        "output.append(y_RSCCMM_auc_ave)\n",
        "\n",
        "\n",
        "# RCCMM-CFの設定\n",
        "y_RCCMM_auc_ave = []\n",
        "# RCCMM_alpha_list = np.arange(1.2, 1.6, 0.05)\n",
        "# RCCMM_beta_list = np.arange(0,-10,-1)\n",
        "RCCMM_alpha_list = np.array([1.0])\n",
        "RCCMM_beta_list = np.array([0.0])\n",
        "output_rows.append([\"\", ', '.join(map(str, x_C)), \"auc\", ', '.join(map(str, RCCMM_alpha_list)), ', '.join(map(str, RCCMM_beta_list))])\n",
        "\n",
        "# 実行\n",
        "for c in x_C:\n",
        "  auc_ave = 0\n",
        "  alpha_ = 0\n",
        "  beta_ = 0\n",
        "  for alpha in RCCMM_alpha_list:\n",
        "    for beta in RCCMM_beta_list:\n",
        "      ave, ave_ = RCCMM_CF_AUC_AVE(roop, test_needs, X_needs, c, alpha, beta)\n",
        "      if ave > auc_ave:\n",
        "        auc_ave = ave\n",
        "        alpha_ = alpha\n",
        "        beta_ = beta\n",
        "\n",
        "  output_rows.append([\"HCCMM-CF\", c, auc_ave, alpha_, beta_])\n",
        "  y_RCCMM_auc_ave.append(auc_ave)\n",
        "\n",
        "output.append(y_RCCMM_auc_ave)\n",
        "\n",
        "plt.plot(x_C, y_RSCCMM_auc_ave, label=\"RSCCMM-CF\")\n",
        "# plt.plot(x_C, y_RCCMM_auc_ave, label=\"RCCMM-CF\")\n",
        "plt.plot(x_C, y_RCCMM_auc_ave, label=\"HCCMM-CF\")\n",
        "#plt.xticks(x_C, x_C)\n",
        "plt.legend()\n",
        "plt.title('AUC by C')\n",
        "plt.xlabel('C')\n",
        "plt.ylabel('AUC')\n",
        "#plt.grid(True)\n",
        "plt.savefig(f\"{name}.png\", format=\"png\", dpi=300)\n",
        "\n",
        "#csv出力\n",
        "with open(f'{name}.csv', 'wt', encoding='utf-8', newline='') as fout:\n",
        "    writer = csv.writer(fout)\n",
        "    writer.writerows(output)\n",
        "\n",
        "output_info = [[\"手法\", \"クラスター数\", \"AUC\", \"パラメータ1\", \"パラメータ2\"]]\n",
        "for row in output_rows:\n",
        "  output_info.append(row)\n",
        "with open(f'{name}_info.csv', 'wt', encoding='utf-8', newline='') as fout:\n",
        "    writer = csv.writer(fout)\n",
        "    writer.writerows(output_info)"
      ],
      "metadata": {
        "colab": {
          "base_uri": "https://localhost:8080/",
          "height": 524
        },
        "id": "Ue5i6C7zcHLE",
        "outputId": "16328452-87cf-4880-c94a-d3f40d160b40"
      },
      "execution_count": 14,
      "outputs": [
        {
          "output_type": "stream",
          "name": "stdout",
          "text": [
            "delta_list:  [ -5.   -5.5  -6.   -6.5  -7.   -7.5  -8.   -8.5  -9.   -9.5 -10. ]\n",
            "RCCMM_alpha_list:  [1.]\n",
            "RCCMM_beta_list:  [0.]\n"
          ]
        },
        {
          "output_type": "display_data",
          "data": {
            "text/plain": [
              "<Figure size 640x480 with 1 Axes>"
            ],
            "image/png": "[encoded data removed]"
          },
          "metadata": {}
        }
      ]
    },
    {
      "cell_type": "code",
      "source": [
        "#再現\n",
        "name = \"NEEDS_RSCCMM_RCCMM_compare\"\n",
        "input = pd.read_csv(f'{name}.csv', header=None)\n",
        "input_x_C_list = np.arange(1,101,1)\n",
        "input_y_RSCCMM_auc_ave = input.values[1]\n",
        "input_y_RCCMM_auc_ave = input.values[2]\n",
        "\n",
        "print(input_x_C_list)\n",
        "print(input_y_RSCCMM_auc_ave)\n",
        "print(input_y_RCCMM_auc_ave)\n",
        "\n",
        "\n",
        "plt.plot(input_x_C_list, input_y_RSCCMM_auc_ave, label=\"RSCCMM-CF\")\n",
        "plt.plot(input_x_C_list, input_y_RCCMM_auc_ave, label=\"RCCMM-CF\")\n",
        "\n",
        "#plt.xticks(x_C, x_C)\n",
        "plt.legend()\n",
        "plt.title('AUC by C')\n",
        "plt.xlabel('C')\n",
        "plt.ylabel('AUC')\n",
        "#plt.grid(True)\n",
        "plt.savefig(f\"{name}.png\", format=\"png\", dpi=300)"
      ],
      "metadata": {
        "id": "SrVDmVdQcUIu"
      },
      "execution_count": null,
      "outputs": []
    }
  ]
}